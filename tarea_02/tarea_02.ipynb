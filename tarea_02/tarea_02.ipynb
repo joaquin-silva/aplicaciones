{
 "cells": [
  {
   "cell_type": "markdown",
   "metadata": {
    "slideshow": {
     "slide_type": "slide"
    }
   },
   "source": [
    "<img src=\"images/usm.png\" width=\"480\" height=\"240\" align=\"left\"/>"
   ]
  },
  {
   "cell_type": "markdown",
   "metadata": {},
   "source": [
    "# MAT281 - 2° Semestre 2019\n",
    "## Aplicaciones de la Matemática en la Ingeniería\n",
    "\n",
    "EL siguiente laboratorio debe realizarse de manera individual. No es posible copiar y pegar código de otros estudiantes. \n",
    "Pueden consultar internet (stackoverflow, por ejemplo), pero deben indicar sus fuentes cuando corresponda.\n",
    "\n",
    "**Nombre**: Joaquín Silva\n",
    "\n",
    "**Rol**: 201604611-9\n",
    "\n",
    "**Fecha de entrega**: Lunes 25 Noviembre 2019."
   ]
  },
  {
   "cell_type": "markdown",
   "metadata": {},
   "source": [
    "Esta tarea puede completarse en `jupyter notebook` o `jupyter lab`, y sólo requiere la librería `pandas`. Es posible utilizar el ambiente `mat281_modulo2`."
   ]
  },
  {
   "cell_type": "markdown",
   "metadata": {
    "slideshow": {
     "slide_type": "slide"
    }
   },
   "source": [
    "## Tema 1 - Educated Guessing - Evolución de medios de almacenamiento [20 puntos]\n",
    "\n",
    "![images/cd_dvd_bluray.jpg](images/cd_dvd_bluray.jpg)\n",
    "\n",
    "Imagen obtenida de `http://rodhzuniga.blogspot.com/2013/01/diferencias-entre-cddvd-y-blu-ray.html` (revisar después de completada la tarea) - algunos derechos probablemente reservados.\n",
    "\n",
    "Estime las siguientes cantidades aplicando la regla $1 - \\pi - 10$. (Para más información, lea el siguiente artículo: [Regla $1 - \\pi - 10$](https://en.wikipedia.org/wiki/Mathematical_coincidence))\n",
    "\n",
    "Realice de manera honesta el ejercicio con una estimación con los conocimientos preliminares, obteniendo una primera estimación. ***A continuación***, busque información, indicando sus fuentes, para mejorar sus hipótesis. ¿Cuánto cambia su respuesta?\n",
    "\n",
    "En todos los casos, suponga el bit perfectamente cuadrado e indique el lado y el área. De ser posible y conocido, compare con algún objeto."
   ]
  },
  {
   "cell_type": "markdown",
   "metadata": {},
   "source": [
    "**Pregunta 1.1.- ¿Qué tamaño tiene un bit en un CD-ROM)?** [5 puntos]\n",
    "\n",
    "**R:** Las medidas de un CD son: 2[cm] el radio interior y 6[cm] el radio exterior. Entonces el área aproximada es:\n",
    "\n",
    "$$A\\approx 3\\cdot (6^2 -2^2) = 96 [{cm}^2]$$\n",
    "\n",
    "Entonces digamos que un CD tiene una capacidad de $700 [mb] = 700.000.000 [byte]$ y aproximando $1[byte]\\approx 10[bit]$ tenemos que $700[mb]=7.000.000.000 [bit]$. Por lo tanto un bit tiene un tamaño aproximado en un CD-ROM:\n",
    "$$\n",
    "t_1\\approx \\frac{96}{7.000.000.000 } [{cm}^2/bit]\\approx  1.37\\cdot 10^{-8} [{cm}^2/bit]\n",
    "$$\n",
    "\n",
    "\n",
    "*DISCUSIÓN DE DATOS EN BASE A MEJOR INFORMACIÓN.*\n",
    "\n",
    "Usando los valores reales tenemos que \n",
    "$$ A = \\pi (6^2-2^2)=32\\pi [{cm}^2]$$\n",
    "\n",
    "Y además $700[mb]=8\\cdot 700.000.000 [bit] = 5.600.000.000 [bit]$. Entonces un bit tiene una tamaño igual a (en un CD-ROM)\n",
    "\n",
    "$$\n",
    "t_1 = \\frac{32\\pi}{5.600.000.000 } [{cm}^2/bit] = 1.79\\cdot 10^{-8} [{cm}^2/bit]\n",
    "$$\n",
    "\n",
    "Nota: El valor \"real\" igual es una aproximación ya que $\\pi$ es irracional pero se entiende que ese es un valor muy cercano al real."
   ]
  },
  {
   "cell_type": "markdown",
   "metadata": {},
   "source": [
    "**Pregunta 1.2.- ¿Qué tamaño tiene un bit en DVD?**  [5 puntos]\n",
    "\n",
    "Observación: un DVD tiene el mismo tamaño que un CD-ROM y considere la versión con una única capa de información. \n",
    "\n",
    "**R:** \n",
    "\n",
    "En este caso el DVD tiene una capacidad aproximada de $5[GB]$ entonces aproximando tenemos\n",
    "$$\n",
    "5[gb]= 5\\cdot 10^{9}[byte]\\approx 5\\cdot 10^{10}[bit]\n",
    "$$\n",
    "\n",
    "Por lo tanto un bit tiene un tamaño aproximado en un DVD:\n",
    "$$\n",
    "t_2\\approx \\frac{96}{5\\cdot 10^{10} } [{cm}^2/bit]\\approx  1.92\\cdot 10^{-9} [{cm}^2/bit]\n",
    "$$\n",
    "\n",
    "*DISCUSIÓN DE DATOS EN BASE A MEJOR INFORMACIÓN.*\n",
    "\n",
    "Usando los valores reales tenemos que \n",
    "$$ A = \\pi (6^2-2^2)=32\\pi [{cm}^2]$$\n",
    "\n",
    "La capacidad real de un DVD es $4.7[GB]$ entonces:\n",
    "$$4.7[GB]=8\\cdot 4.7\\cdot 10^{9} [bit] = 3.76 \\cdot 10^{10} [bit]$$\n",
    "\n",
    "Por lo tanto un bit tiene una tamaño igual a (en un DVD)\n",
    "\n",
    "$$\n",
    "t_2 = \\frac{32\\pi}{3.76\\cdot 10^{10}} [{cm}^2/bit] = 2.67\\cdot 10^{-9} [{cm}^2/bit]\n",
    "$$"
   ]
  },
  {
   "cell_type": "markdown",
   "metadata": {},
   "source": [
    "**Pregunta 1.3.- ¿Qué tamaño tiene un bit en Blu-ray?** [5 puntos]\n",
    "\n",
    "Observación: un Blu-ray tiene el mismo tamaño que un DVD o CD-ROM y considere la versión con una única capa de información. \n",
    "\n",
    "**R:** \n",
    "\n",
    "En este caso un Blu-ray tiene una capacidad aproximada de $25[GB]$ entonces aproximando tenemos\n",
    "$$\n",
    "25[gb]= 2.5\\cdot 10^{10}[byte]\\approx 2.5\\cdot 10^{11}[bit]\n",
    "$$\n",
    "\n",
    "Por lo tanto un bit tiene un tamaño aproximado en un DVD:\n",
    "$$\n",
    "t_3\\approx \\frac{96}{2.5\\cdot 10^{11} } [{cm}^2/bit]\\approx  3.84\\cdot 10^{-10} [{cm}^2/bit]\n",
    "$$\n",
    "\n",
    "*DISCUSIÓN DE DATOS EN BASE A MEJOR INFORMACIÓN.*\n",
    "\n",
    "Usando los valores reales tenemos que \n",
    "$$ A = \\pi (6^2-2^2)=32\\pi [{cm}^2]$$\n",
    "\n",
    "La capacidad real de un Blu-ray es $25[GB]$ entonces:\n",
    "$$25[GB]=8\\cdot 2.5\\cdot 10^{10} [bit] = 2 \\cdot 10^{11} [bit]$$\n",
    "\n",
    "Por lo tanto un bit tiene una tamaño igual a (en un Blu-ray)\n",
    "\n",
    "$$\n",
    "t_3 = \\frac{32\\pi}{2\\cdot 10^{11}} [{cm}^2/bit] = 5.02\\cdot 10^{-10} [{cm}^2/bit]\n",
    "$$"
   ]
  },
  {
   "cell_type": "markdown",
   "metadata": {},
   "source": [
    "**Pregunta 1.4.- Conclusión** [5 puntos]\n",
    "\n",
    "Considerando los puntos anteriores: ¿Cuántos bits de blu-ray cabrían en un bit de DVD? ¿Cuántos bits de DVD cabrían en un bit de CD-ROM?\n",
    "\n",
    "**R:** \n",
    "\n",
    "1) \n",
    "\n",
    "$$\n",
    "\\frac{t_2}{t_3}\\approx 5.31\n",
    "$$\n",
    "Entonces caben 5 bits de blu-ray en un bit de DVD.\n",
    "\n",
    "2)\n",
    "\n",
    "$$\n",
    "\\frac{t_1}{t_2}\\approx 6.7\n",
    "$$\n",
    "Entonces caben 6 bits de DVD en un bit de CD-ROM.\n",
    "\n",
    "**Nota: Los cálculos los hice con calculadora y no usando el mismo Python.**"
   ]
  },
  {
   "cell_type": "markdown",
   "metadata": {},
   "source": [
    "## Tema 2 - Street Fighting Math meets Feynman [20 puntos]\n",
    "\n",
    "![images/feynman.jpg](images/feynman.jpg)\n",
    "\n",
    "Existe una anécdota relatada por Richard Feynman que ilustra su particular humor y su rapidez mental, relatada en el libro [Surely you're joking Mr. Feynman](http://buscador.usm.cl/Record/115966) que, por cierto, es completamente recomendable y que debería ser leído por todo ingeniero y científico. En el capítulo *\"Lucky numbers\"*, Feynamn menciona:\n",
    "\n",
    "*One day at Princeton I was sitting in the lounge and overheard some mathematicians talking about the series for $e^x$, which is $1 + x + x^2/2! + x^3/3!$ Each term you get by multiplying the preceding term by $x$ and dividing by the next number. For example, to get the next term after $x^4/4!$ you multiply that term by $x$ and divide by $5$. It’s very simple.\n",
    "When I was a kid I was excited by series, and had played with this thing. I had computed $e$ using that series, and had seen how quickly the new terms became very small.\n",
    "I mumbled something about how it was easy to calculate $e$ to any power using that series (you just substitute the power for x).*\n",
    "\n",
    "*“Oh yeah?” they said. “Well, then what’s $e^{3.3}$?” said some joker - I think it was Tukey.*\n",
    "\n",
    "*I say, “That’s easy. It’s $27.11$”*\n",
    "\n",
    "*Tukey knows it isn’t so easy to compute all that in your head. “Hey! How’d you do that?”*\n",
    "\n",
    "*Another guy says, “You know Feynman, he’s just faking it. It’s not really right.”*\n",
    "\n",
    "*They go to get a table, and while they’re doing that, I put on a few more figures.: $27.1126$ I say.\n",
    "They find it in the table. “It’s right! But how’d you do it!”*\n",
    "\n",
    "*“I just summed the series.”*\n",
    "\n",
    "*“Nobody can sum the series that fast. You must just happen to know that one. How about $e^3$?”\n",
    "“Look,” I say. “It’s hard work! Only one a day!”*\n",
    "\n",
    "*“Hah! It’s a fake!” they say, happily.*\n",
    "\n",
    "*“All right,” I say, “It’s $20.085$.”*\n",
    "\n",
    "*They look in the book as I put a few more figures on. They’re all excited now, because I got another one right.\n",
    "Here are these great mathematicians of the day, puzzled at how I can compute $e$ to any power! One of them says, “He just can’t be substituting and summing—it’s too hard. There’s some trick. You couldn’t do just any old number like $e^{1.4}$.”*\n",
    "\n",
    "*I say, “It’s hard work, but for you, OK. It’s $4.05$.”*\n",
    "\n",
    "*As they’re looking it up, I put on a few more digits and say, “And that’s the last one for the day!” and walk out.*\n",
    "\n",
    "*What happened was this: I happened to know three numbers—the logarithm of $10$ to the base $e$ (needed to convert numbers from base $10$ to base $e$), which is $2.3026$ (so I knew that $e$ to the $2.3$ is very close to $10$), and because of radioactivity (mean-life and half-life), I knew the $\\log$ of $2$ to the base $e$, which is $0.69315$ (so I also knew that $e^{0.7}$ is nearly equal to $2$). I also knew $e$ (to the 1), which is $2.71828$.*\n",
    "\n",
    "*The first number they gave me was $e^{3.3}$, which is $e^{2.3+1}$, that is, ten times $e$, or 27.18. While they were sweating about how I was doing it, I was correcting for the extra $.0026$, producing $2.3026$.*\n",
    "\n",
    "*I knew I couldn’t do another one; that was sheer luck. But then the guy said $e^3$: that’s $e^{2.3}$ times $e^{0.7}$, or ten times two. So I knew it was 20-something, and while they were worrying how I did it, I adjusted for the $0.693$.*\n",
    "\n",
    "*Now I was sure I couldn’t do another one, because the last one was again by sheer luck. But the guy said $e^{1.4}$, which is $e^{0.7}$ times itself. So all I had to do is fix up $4$ a little bit!*"
   ]
  },
  {
   "cell_type": "markdown",
   "metadata": {},
   "source": [
    "### Función exponencial truncada\n",
    "\n",
    "Proporcionaremos la siguiente función exponencial de $n$ términos para responder las siguientes preguntas."
   ]
  },
  {
   "cell_type": "code",
   "execution_count": 1,
   "metadata": {},
   "outputs": [
    {
     "name": "stdout",
     "output_type": "stream",
     "text": [
      "27.11262722548732\n",
      "20.08410308441558\n"
     ]
    }
   ],
   "source": [
    "import math\n",
    "def exponential_n_terms(x, n):\n",
    "    \"\"\"\n",
    "    Calcula la exponencial considerando una serie finita de términos \n",
    "    de una manera directa.\n",
    "    inputs: \n",
    "    x: int or real number.\n",
    "    n: number of terms to consider in the series.\n",
    "    returns:\n",
    "    sx: 1 + x**1/1 + x**2/2! + ... + x**n/n!\n",
    "    \"\"\"\n",
    "    Sx = 1\n",
    "    px = 1\n",
    "    for i in range(1,n+1):\n",
    "        px = px * x / i\n",
    "        Sx += px\n",
    "    return Sx\n",
    "\n",
    "#print(exponential_n_terms(1.0, 100))\n",
    "\n",
    "print(exponential_n_terms(3.3, 15))\n",
    "print(exponential_n_terms(3, 11))"
   ]
  },
  {
   "cell_type": "markdown",
   "metadata": {},
   "source": [
    "**Pregunta 2.1:** $e^{3.3} \\approx 27.1126$ [10 puntos]\n",
    "\n",
    "1.- ¿Cuántos términos habría que haber usado en la serie para llegar a ese resultado? ¿Cuántas operaciones serían necesarias considerando el \"truco\" mencionado por Feynman?\n",
    "\n",
    "**R:** Tendría que haber calculado 15 términos de la serie. \n",
    "\n",
    "2.- ¿Cómo se realiza el cálculo mental, en su primera y segunda aproximación? Indique las ecuaciones de la manera más formal posible.\n",
    "\n",
    "**R:** En la primera aproximación utiliza que $e^{2.3}\\approx 10$, entonces $e^{3.3}=e^{1}e^{2.3}\\approx e\\cdot 10 \\approx 27.1828$."
   ]
  },
  {
   "cell_type": "markdown",
   "metadata": {},
   "source": [
    "**Pregunta 2.2:** $e^{3} \\approx 20.085$ [10 puntos]\n",
    "\n",
    "1.- ¿Cuántos términos habría que haber usado en la serie para llegar a ese resultado?\n",
    "\n",
    "**R:** Tendría que haber calculado 15 términos de la serie. \n",
    "\n",
    "2.- ¿Cómo se realiza el cálculo mental, en su primera y segunda aproximación? Indique las ecuaciones de la manera más formal posible.\n",
    "\n",
    "**R:** En la primera aproximación utiliza que $e^{3}=e^{2.3} e^{0.7}$, usando que $e^{0.7}\\approx 2$ se tiene que $e^{3}\\approx 10\\cdot 2 \\approx 20$.\n"
   ]
  },
  {
   "cell_type": "markdown",
   "metadata": {},
   "source": [
    "**Pregunta 2.3:** $e^{1.4} \\approx 4.05$ [Opcional]\n",
    "\n",
    "1. ¿Cuántos términos habría que haber usado en la serie para llegar a ese resultado?\n",
    "\n",
    "**R:** *[Respuesta]*\n",
    "\n",
    "2.- ¿Cómo se realiza el cálculo mental, en su primera y segunda aproximación? Indique las ecuaciones de la manera más formal posible.\n",
    "\n",
    "**R:** *[Respuesta]*"
   ]
  },
  {
   "cell_type": "markdown",
   "metadata": {},
   "source": [
    "## Tema 3 - Análisis de Datos - de otra dimensión [60 puntos]\n",
    "\n",
    "![images/iwanttobelieve.jpg](images/iwanttobelieve.jpg)"
   ]
  },
  {
   "cell_type": "markdown",
   "metadata": {},
   "source": [
    "Realizaremos diversas técnicas de análisis sobre un curioso set de datos: una lista completa de avistamientos de OVNIS, que incluye el dia y hora del avistamiento, y la geolocalización. Este dataset no se encuentra muy actualizado y su procedencia puede resultar dudosa, además que contiene datos hasta el año 2014, pero resultará un buen conjunto de datos para analizar.\n",
    "\n",
    "El repositorio original se encuentra en la dirección https://github.com/planetsig/ufo-reports, aunque también se encuentra replicado en varios otros lugares, como por ejemplo [kaggle](https://www.kaggle.com/NUFORC/ufo-sightings/version/1). Usaremos el archivo que ya se encuentra procesado y limpiado, que hemos dejado en el directorio `/tarea/code/UFO-scrubber.csv`."
   ]
  },
  {
   "cell_type": "markdown",
   "metadata": {},
   "source": [
    "### A. Análisis inicial de la información\n",
    "\n",
    "Para conocer el dataset con el que trabajaremos, resulta natural usar los métodos `head()` y `describe`. Abriremos el dataset con todas las columnas de tipo `string` para poder realizar distintas operaciones de texto sobre ellas. "
   ]
  },
  {
   "cell_type": "code",
   "execution_count": 2,
   "metadata": {},
   "outputs": [],
   "source": [
    "import pandas as pd\n",
    "# Avoid the warnings\n",
    "pd.options.mode.chained_assignment = None  # default='warn'\n",
    "\n",
    "# Open the file with separator \";\" and all columns as strings\n",
    "df_with_na = pd.read_csv(\"./data/UFO_scrubbed.csv\", sep=\",\", dtype=str)\n",
    "\n",
    "# Fill the Nans\n",
    "df = df_with_na.fillna(\"\")"
   ]
  },
  {
   "cell_type": "code",
   "execution_count": 4,
   "metadata": {},
   "outputs": [
    {
     "data": {
      "text/html": [
       "<div>\n",
       "<style scoped>\n",
       "    .dataframe tbody tr th:only-of-type {\n",
       "        vertical-align: middle;\n",
       "    }\n",
       "\n",
       "    .dataframe tbody tr th {\n",
       "        vertical-align: top;\n",
       "    }\n",
       "\n",
       "    .dataframe thead th {\n",
       "        text-align: right;\n",
       "    }\n",
       "</style>\n",
       "<table border=\"1\" class=\"dataframe\">\n",
       "  <thead>\n",
       "    <tr style=\"text-align: right;\">\n",
       "      <th></th>\n",
       "      <th>datetime</th>\n",
       "      <th>city</th>\n",
       "      <th>state</th>\n",
       "      <th>country</th>\n",
       "      <th>shape</th>\n",
       "      <th>duration (seconds)</th>\n",
       "      <th>duration (hours/min)</th>\n",
       "      <th>comments</th>\n",
       "      <th>date posted</th>\n",
       "      <th>latitude</th>\n",
       "      <th>longitude</th>\n",
       "    </tr>\n",
       "  </thead>\n",
       "  <tbody>\n",
       "    <tr>\n",
       "      <td>0</td>\n",
       "      <td>10/10/1949 20:30</td>\n",
       "      <td>san marcos</td>\n",
       "      <td>tx</td>\n",
       "      <td>us</td>\n",
       "      <td>cylinder</td>\n",
       "      <td>2700</td>\n",
       "      <td>45 minutes</td>\n",
       "      <td>This event took place in early fall around 194...</td>\n",
       "      <td>4/27/2004</td>\n",
       "      <td>29.8830556</td>\n",
       "      <td>-97.9411111</td>\n",
       "    </tr>\n",
       "    <tr>\n",
       "      <td>1</td>\n",
       "      <td>10/10/1949 21:00</td>\n",
       "      <td>lackland afb</td>\n",
       "      <td>tx</td>\n",
       "      <td></td>\n",
       "      <td>light</td>\n",
       "      <td>7200</td>\n",
       "      <td>1-2 hrs</td>\n",
       "      <td>1949 Lackland AFB&amp;#44 TX.  Lights racing acros...</td>\n",
       "      <td>12/16/2005</td>\n",
       "      <td>29.38421</td>\n",
       "      <td>-98.581082</td>\n",
       "    </tr>\n",
       "    <tr>\n",
       "      <td>2</td>\n",
       "      <td>10/10/1955 17:00</td>\n",
       "      <td>chester (uk/england)</td>\n",
       "      <td></td>\n",
       "      <td>gb</td>\n",
       "      <td>circle</td>\n",
       "      <td>20</td>\n",
       "      <td>20 seconds</td>\n",
       "      <td>Green/Orange circular disc over Chester&amp;#44 En...</td>\n",
       "      <td>1/21/2008</td>\n",
       "      <td>53.2</td>\n",
       "      <td>-2.916667</td>\n",
       "    </tr>\n",
       "    <tr>\n",
       "      <td>3</td>\n",
       "      <td>10/10/1956 21:00</td>\n",
       "      <td>edna</td>\n",
       "      <td>tx</td>\n",
       "      <td>us</td>\n",
       "      <td>circle</td>\n",
       "      <td>20</td>\n",
       "      <td>1/2 hour</td>\n",
       "      <td>My older brother and twin sister were leaving ...</td>\n",
       "      <td>1/17/2004</td>\n",
       "      <td>28.9783333</td>\n",
       "      <td>-96.6458333</td>\n",
       "    </tr>\n",
       "    <tr>\n",
       "      <td>4</td>\n",
       "      <td>10/10/1960 20:00</td>\n",
       "      <td>kaneohe</td>\n",
       "      <td>hi</td>\n",
       "      <td>us</td>\n",
       "      <td>light</td>\n",
       "      <td>900</td>\n",
       "      <td>15 minutes</td>\n",
       "      <td>AS a Marine 1st Lt. flying an FJ4B fighter/att...</td>\n",
       "      <td>1/22/2004</td>\n",
       "      <td>21.4180556</td>\n",
       "      <td>-157.8036111</td>\n",
       "    </tr>\n",
       "  </tbody>\n",
       "</table>\n",
       "</div>"
      ],
      "text/plain": [
       "           datetime                  city state country     shape  \\\n",
       "0  10/10/1949 20:30            san marcos    tx      us  cylinder   \n",
       "1  10/10/1949 21:00          lackland afb    tx             light   \n",
       "2  10/10/1955 17:00  chester (uk/england)            gb    circle   \n",
       "3  10/10/1956 21:00                  edna    tx      us    circle   \n",
       "4  10/10/1960 20:00               kaneohe    hi      us     light   \n",
       "\n",
       "  duration (seconds) duration (hours/min)  \\\n",
       "0               2700           45 minutes   \n",
       "1               7200              1-2 hrs   \n",
       "2                 20           20 seconds   \n",
       "3                 20             1/2 hour   \n",
       "4                900           15 minutes   \n",
       "\n",
       "                                            comments date posted    latitude  \\\n",
       "0  This event took place in early fall around 194...   4/27/2004  29.8830556   \n",
       "1  1949 Lackland AFB&#44 TX.  Lights racing acros...  12/16/2005    29.38421   \n",
       "2  Green/Orange circular disc over Chester&#44 En...   1/21/2008        53.2   \n",
       "3  My older brother and twin sister were leaving ...   1/17/2004  28.9783333   \n",
       "4  AS a Marine 1st Lt. flying an FJ4B fighter/att...   1/22/2004  21.4180556   \n",
       "\n",
       "     longitude   \n",
       "0   -97.9411111  \n",
       "1    -98.581082  \n",
       "2     -2.916667  \n",
       "3   -96.6458333  \n",
       "4  -157.8036111  "
      ]
     },
     "execution_count": 4,
     "metadata": {},
     "output_type": "execute_result"
    }
   ],
   "source": [
    "# See the first rows\n",
    "df.head()"
   ]
  },
  {
   "cell_type": "code",
   "execution_count": 5,
   "metadata": {},
   "outputs": [
    {
     "data": {
      "text/html": [
       "<div>\n",
       "<style scoped>\n",
       "    .dataframe tbody tr th:only-of-type {\n",
       "        vertical-align: middle;\n",
       "    }\n",
       "\n",
       "    .dataframe tbody tr th {\n",
       "        vertical-align: top;\n",
       "    }\n",
       "\n",
       "    .dataframe thead th {\n",
       "        text-align: right;\n",
       "    }\n",
       "</style>\n",
       "<table border=\"1\" class=\"dataframe\">\n",
       "  <thead>\n",
       "    <tr style=\"text-align: right;\">\n",
       "      <th></th>\n",
       "      <th>count</th>\n",
       "      <th>unique</th>\n",
       "      <th>top</th>\n",
       "      <th>freq</th>\n",
       "    </tr>\n",
       "  </thead>\n",
       "  <tbody>\n",
       "    <tr>\n",
       "      <td>datetime</td>\n",
       "      <td>80332</td>\n",
       "      <td>69586</td>\n",
       "      <td>7/4/2010 22:00</td>\n",
       "      <td>36</td>\n",
       "    </tr>\n",
       "    <tr>\n",
       "      <td>city</td>\n",
       "      <td>80332</td>\n",
       "      <td>19900</td>\n",
       "      <td>seattle</td>\n",
       "      <td>525</td>\n",
       "    </tr>\n",
       "    <tr>\n",
       "      <td>state</td>\n",
       "      <td>80332</td>\n",
       "      <td>68</td>\n",
       "      <td>ca</td>\n",
       "      <td>9655</td>\n",
       "    </tr>\n",
       "    <tr>\n",
       "      <td>country</td>\n",
       "      <td>80332</td>\n",
       "      <td>6</td>\n",
       "      <td>us</td>\n",
       "      <td>65114</td>\n",
       "    </tr>\n",
       "    <tr>\n",
       "      <td>shape</td>\n",
       "      <td>80332</td>\n",
       "      <td>30</td>\n",
       "      <td>light</td>\n",
       "      <td>16565</td>\n",
       "    </tr>\n",
       "    <tr>\n",
       "      <td>duration (seconds)</td>\n",
       "      <td>80332</td>\n",
       "      <td>537</td>\n",
       "      <td>300</td>\n",
       "      <td>8635</td>\n",
       "    </tr>\n",
       "    <tr>\n",
       "      <td>duration (hours/min)</td>\n",
       "      <td>80332</td>\n",
       "      <td>8349</td>\n",
       "      <td>5 minutes</td>\n",
       "      <td>4716</td>\n",
       "    </tr>\n",
       "    <tr>\n",
       "      <td>comments</td>\n",
       "      <td>80332</td>\n",
       "      <td>79998</td>\n",
       "      <td></td>\n",
       "      <td>15</td>\n",
       "    </tr>\n",
       "    <tr>\n",
       "      <td>date posted</td>\n",
       "      <td>80332</td>\n",
       "      <td>317</td>\n",
       "      <td>12/12/2009</td>\n",
       "      <td>1510</td>\n",
       "    </tr>\n",
       "    <tr>\n",
       "      <td>latitude</td>\n",
       "      <td>80332</td>\n",
       "      <td>18445</td>\n",
       "      <td>47.6063889</td>\n",
       "      <td>581</td>\n",
       "    </tr>\n",
       "    <tr>\n",
       "      <td>longitude</td>\n",
       "      <td>80332</td>\n",
       "      <td>19489</td>\n",
       "      <td>-122.3308333</td>\n",
       "      <td>581</td>\n",
       "    </tr>\n",
       "  </tbody>\n",
       "</table>\n",
       "</div>"
      ],
      "text/plain": [
       "                      count unique             top   freq\n",
       "datetime              80332  69586  7/4/2010 22:00     36\n",
       "city                  80332  19900         seattle    525\n",
       "state                 80332     68              ca   9655\n",
       "country               80332      6              us  65114\n",
       "shape                 80332     30           light  16565\n",
       "duration (seconds)    80332    537             300   8635\n",
       "duration (hours/min)  80332   8349       5 minutes   4716\n",
       "comments              80332  79998                     15\n",
       "date posted           80332    317      12/12/2009   1510\n",
       "latitude              80332  18445      47.6063889    581\n",
       "longitude             80332  19489    -122.3308333    581"
      ]
     },
     "execution_count": 5,
     "metadata": {},
     "output_type": "execute_result"
    }
   ],
   "source": [
    "df.describe(include=\"all\").T"
   ]
  },
  {
   "cell_type": "markdown",
   "metadata": {},
   "source": [
    "Podemos observar fácilmente que el conjunto de datos se encuentra particularmente cargado a avistamientos en E.E.U.U.:"
   ]
  },
  {
   "cell_type": "code",
   "execution_count": 6,
   "metadata": {},
   "outputs": [
    {
     "data": {
      "text/plain": [
       "us    65114\n",
       "       9670\n",
       "ca     3000\n",
       "gb     1905\n",
       "au      538\n",
       "de      105\n",
       "Name: country, dtype: int64"
      ]
     },
     "execution_count": 6,
     "metadata": {},
     "output_type": "execute_result"
    }
   ],
   "source": [
    "df[\"country\"].value_counts()"
   ]
  },
  {
   "cell_type": "markdown",
   "metadata": {},
   "source": [
    "Para producir estadísticas más realistas, en lo sucesivo sólo utilizaremos sólamente datos relativos a avistamientos en dicho país que probablemente se encuentran mucho mejor documentados que en los otros países del dataset."
   ]
  },
  {
   "cell_type": "markdown",
   "metadata": {},
   "source": [
    "Por otra parte, ¿Existen estados conocidos sin tener el país de eeuu?"
   ]
  },
  {
   "cell_type": "markdown",
   "metadata": {},
   "source": [
    "**1. Selección de datos**\n",
    "\n",
    "**Pregunta 4.1: ¿Cuáles son las 5 avistamientos de mayor duración (en EEUU)? ¿Cuantos días han durado dichos encuentros?** [5 puntos]\n",
    "\n",
    "Indique el código necesario para seleccionar únicamente los avistamientos ocurridos en EEUU, y que poseen un estado (state) distinto de vacío. Almacene el resultado en la variable `df_us`."
   ]
  },
  {
   "cell_type": "code",
   "execution_count": 7,
   "metadata": {},
   "outputs": [
    {
     "name": "stdout",
     "output_type": "stream",
     "text": [
      "(65114, 11)\n",
      "(65114, 11)\n"
     ]
    }
   ],
   "source": [
    "df_us = df.loc()[df['country'] == 'us']\n",
    "\n",
    "dur = list(df_us['duration (seconds)'])\n",
    "ciudades = list(df_us['city'])\n",
    "print(df_us.shape)\n",
    "\n",
    "vacios = df_us[ df_us['state'] == '' ].index\n",
    "df_us.drop(vacios, inplace=True)\n",
    "print(df_us.shape)"
   ]
  },
  {
   "cell_type": "code",
   "execution_count": 8,
   "metadata": {},
   "outputs": [
    {
     "name": "stdout",
     "output_type": "stream",
     "text": [
      "66276000.0 [60480]\n",
      "52623200.0 [52325, 56117]\n",
      "52623200.0 [56117]\n",
      "10526400.0 [25229, 57680]\n",
      "10526400.0 [57680]\n"
     ]
    }
   ],
   "source": [
    "# Vemos que todos en EEUU todos los estados (state) son distinto de vacío.\n",
    "\n",
    "for k in range(5):\n",
    "    maximo = 0\n",
    "    index = []\n",
    "    for i in range(len(dur)):\n",
    "        if(dur[i]!=\"2`\" and dur[i]!=\"8`\"):\n",
    "            if(float(dur[i]) > maximo):\n",
    "                maximo = float(dur[i])\n",
    "                index = [i]\n",
    "            elif(float(dur[i]) == maximo):\n",
    "                index.append(i)\n",
    "    print(maximo, index)\n",
    "    dur[index[0]]=0"
   ]
  },
  {
   "cell_type": "code",
   "execution_count": 9,
   "metadata": {},
   "outputs": [
    {
     "name": "stdout",
     "output_type": "stream",
     "text": [
      "El avistamiento más largo ocurrió en greenbrier con una duración de 767 días.\n",
      "Los siguientes dos avistamientos más largos ocurrieron en finley y englewood con una duración de 609 días.\n",
      "Los siguientes dos avistamientos más largos ocurrieron en menifee y virginia beach con una duración de 122 días.\n"
     ]
    }
   ],
   "source": [
    "print(\"El avistamiento más largo ocurrió en\", ciudades[60480],\"con una duración de\", round(66276000/86400), \"días.\")\n",
    "print(\"Los siguientes dos avistamientos más largos ocurrieron en\", ciudades[52325], \"y\", ciudades[56117], \"con una duración de\", round(52623200/86400), \"días.\")\n",
    "print(\"Los siguientes dos avistamientos más largos ocurrieron en\", ciudades[25229], \"y\", ciudades[57680], \"con una duración de\", round(10526400/86400), \"días.\")"
   ]
  },
  {
   "cell_type": "markdown",
   "metadata": {},
   "source": [
    "### B. Exploración simple de los datos"
   ]
  },
  {
   "cell_type": "markdown",
   "metadata": {},
   "source": [
    "**Pregunta 4.2: ¿Cuáles son las 5 mayores duraciones de avistamientos (en EEUU)? ¿Cuantos días han durado dichos encuentros?** [5 puntos]\n",
    "\n",
    "Indique el código necesario para responder la pregunta y comente al respecto.\n",
    "\n",
    "Observaciones:\n",
    "\n",
    "* En este caso se entiende que las 5 duraciones significa que se deben obtener 5 duraciones *distintas*.\n",
    "* La columna \"duration (seconds)\" proporciona una unidad común (segundos) pero en unos pocos casos tiene un carácter adicional innecesario (los casos, `2'` o `8'`).\n",
    "* Para poder obtener la mayor duración es necesario convertir la columna adecuadamente a float.\n",
    "\n",
    "Sugerencia: \n",
    "* Remueva el caracter innecesario usando `replace`:\n",
    "\n",
    "```python\n",
    "df_us[\"duration (seconds)\"].str.replace('`', '')\n",
    "```\n",
    "\n",
    "* Convierta la columna adecuada a `float`, y utilice `unique` and `sorted`."
   ]
  },
  {
   "cell_type": "markdown",
   "metadata": {},
   "source": [
    "**R: Esto ya fue respondido en el ítem anterior**"
   ]
  },
  {
   "cell_type": "markdown",
   "metadata": {},
   "source": [
    "**Pregunta 4.3: ¿Donde han ocurrido los 5 encuentros que han durado más tiempo (en EEUU)?** [5 puntos]\n",
    "\n",
    "La pregunta anterior permitía obtener la duración de los eventos, pero no otras características. Para poder responder donde han ocurrido esos encuentros, resulta necesario agregar una nueva columna y ordenando apropiadamente el dataframe. En este caso se pregunta por los 5 encuentros que han durado más tiempo, por lo que podría (eventualmente) existir repetición en las duraciones de los eventos."
   ]
  },
  {
   "cell_type": "code",
   "execution_count": 10,
   "metadata": {},
   "outputs": [
    {
     "data": {
      "text/html": [
       "<div>\n",
       "<style scoped>\n",
       "    .dataframe tbody tr th:only-of-type {\n",
       "        vertical-align: middle;\n",
       "    }\n",
       "\n",
       "    .dataframe tbody tr th {\n",
       "        vertical-align: top;\n",
       "    }\n",
       "\n",
       "    .dataframe thead th {\n",
       "        text-align: right;\n",
       "    }\n",
       "</style>\n",
       "<table border=\"1\" class=\"dataframe\">\n",
       "  <thead>\n",
       "    <tr style=\"text-align: right;\">\n",
       "      <th></th>\n",
       "      <th>datetime</th>\n",
       "      <th>city</th>\n",
       "      <th>state</th>\n",
       "      <th>country</th>\n",
       "      <th>shape</th>\n",
       "      <th>duration (seconds)</th>\n",
       "      <th>duration (hours/min)</th>\n",
       "      <th>comments</th>\n",
       "      <th>date posted</th>\n",
       "      <th>latitude</th>\n",
       "      <th>longitude</th>\n",
       "      <th>duration_in_days</th>\n",
       "    </tr>\n",
       "  </thead>\n",
       "  <tbody>\n",
       "    <tr>\n",
       "      <td>71172</td>\n",
       "      <td>8/3/2008 21:00</td>\n",
       "      <td>virginia beach</td>\n",
       "      <td>va</td>\n",
       "      <td>us</td>\n",
       "      <td>fireball</td>\n",
       "      <td>10526400</td>\n",
       "      <td>4 months</td>\n",
       "      <td>this object was very high up and emmited no so...</td>\n",
       "      <td>8/12/2008</td>\n",
       "      <td>36.8527778</td>\n",
       "      <td>-75.9783333</td>\n",
       "      <td>121.833333</td>\n",
       "    </tr>\n",
       "    <tr>\n",
       "      <td>30596</td>\n",
       "      <td>3/1/1994 01:00</td>\n",
       "      <td>menifee</td>\n",
       "      <td>ca</td>\n",
       "      <td>us</td>\n",
       "      <td>unknown</td>\n",
       "      <td>10526400</td>\n",
       "      <td>4 months</td>\n",
       "      <td>Sun City / Menifee UFO sightings in 1994</td>\n",
       "      <td>2/22/2005</td>\n",
       "      <td>33.7283333</td>\n",
       "      <td>-117.1455556</td>\n",
       "      <td>121.833333</td>\n",
       "    </tr>\n",
       "    <tr>\n",
       "      <td>64390</td>\n",
       "      <td>8/10/2012 21:00</td>\n",
       "      <td>finley</td>\n",
       "      <td>wa</td>\n",
       "      <td>us</td>\n",
       "      <td>light</td>\n",
       "      <td>52623200</td>\n",
       "      <td>2 months</td>\n",
       "      <td>There have been several flying objects in a pe...</td>\n",
       "      <td>8/19/2012</td>\n",
       "      <td>46.1541667</td>\n",
       "      <td>-119.0327778</td>\n",
       "      <td>609.064815</td>\n",
       "    </tr>\n",
       "    <tr>\n",
       "      <td>69215</td>\n",
       "      <td>8/24/2002 01:00</td>\n",
       "      <td>englewood</td>\n",
       "      <td>fl</td>\n",
       "      <td>us</td>\n",
       "      <td>light</td>\n",
       "      <td>52623200</td>\n",
       "      <td>2 months</td>\n",
       "      <td>bright stars&amp;#44 moving erratically&amp;#44 over t...</td>\n",
       "      <td>8/28/2002</td>\n",
       "      <td>26.9616667</td>\n",
       "      <td>-82.3527778</td>\n",
       "      <td>609.064815</td>\n",
       "    </tr>\n",
       "    <tr>\n",
       "      <td>74660</td>\n",
       "      <td>9/15/1991 18:00</td>\n",
       "      <td>greenbrier</td>\n",
       "      <td>ar</td>\n",
       "      <td>us</td>\n",
       "      <td>light</td>\n",
       "      <td>66276000</td>\n",
       "      <td>21 years</td>\n",
       "      <td>Orange or amber balls or orbs of light multipl...</td>\n",
       "      <td>3/31/2008</td>\n",
       "      <td>35.2338889</td>\n",
       "      <td>-92.3875000</td>\n",
       "      <td>767.083333</td>\n",
       "    </tr>\n",
       "  </tbody>\n",
       "</table>\n",
       "</div>"
      ],
      "text/plain": [
       "              datetime            city state country     shape  \\\n",
       "71172   8/3/2008 21:00  virginia beach    va      us  fireball   \n",
       "30596   3/1/1994 01:00         menifee    ca      us   unknown   \n",
       "64390  8/10/2012 21:00          finley    wa      us     light   \n",
       "69215  8/24/2002 01:00       englewood    fl      us     light   \n",
       "74660  9/15/1991 18:00      greenbrier    ar      us     light   \n",
       "\n",
       "      duration (seconds) duration (hours/min)  \\\n",
       "71172           10526400             4 months   \n",
       "30596           10526400             4 months   \n",
       "64390           52623200             2 months   \n",
       "69215           52623200             2 months   \n",
       "74660           66276000             21 years   \n",
       "\n",
       "                                                comments date posted  \\\n",
       "71172  this object was very high up and emmited no so...   8/12/2008   \n",
       "30596           Sun City / Menifee UFO sightings in 1994   2/22/2005   \n",
       "64390  There have been several flying objects in a pe...   8/19/2012   \n",
       "69215  bright stars&#44 moving erratically&#44 over t...   8/28/2002   \n",
       "74660  Orange or amber balls or orbs of light multipl...   3/31/2008   \n",
       "\n",
       "         latitude    longitude   duration_in_days  \n",
       "71172  36.8527778   -75.9783333        121.833333  \n",
       "30596  33.7283333  -117.1455556        121.833333  \n",
       "64390  46.1541667  -119.0327778        609.064815  \n",
       "69215  26.9616667   -82.3527778        609.064815  \n",
       "74660  35.2338889   -92.3875000        767.083333  "
      ]
     },
     "execution_count": 10,
     "metadata": {},
     "output_type": "execute_result"
    }
   ],
   "source": [
    "df_us['duration_in_days'] = df_us[\"duration (seconds)\"].str.replace('`', '').astype(float)/(24*60*60)\n",
    "df_us.sort_values(\"duration_in_days\").tail(5)"
   ]
  },
  {
   "cell_type": "markdown",
   "metadata": {},
   "source": [
    "**Ya fue respondido anteriormente**"
   ]
  },
  {
   "cell_type": "markdown",
   "metadata": {},
   "source": [
    "### C. Manipulación de strings\n",
    "Para realizar un análisis sobre los años del avistamiento, es necesario convertir la fecha `datetime` en un formato apropiado. En python existe un tipo propio llamado precisamente `datetime` que proporciona métodos para manipulación de fechas y horas, pero para nuestros fines pedagógicos seguiremos utilizando strings. Sin embargo, si lo deseas, puedes investigar y utilizar las funciones propias de dicha librería en esta tarea (pero representará probablemente mucho más trabajo).\n",
    "\n",
    "El formato de fecha utilizado es \"mm/dd/yyyy hh:mm\". Podemos extraer la información de manera sencilla utilizando las funciones de strings como se muestra a continuación:"
   ]
  },
  {
   "cell_type": "code",
   "execution_count": 11,
   "metadata": {},
   "outputs": [],
   "source": [
    "# Split each row using the str method split and then assign to new columns\n",
    "df_us[\"date\"], df_us[\"time\"] = df_us[\"datetime\"].str.split(\" \").str"
   ]
  },
  {
   "cell_type": "code",
   "execution_count": 12,
   "metadata": {},
   "outputs": [
    {
     "data": {
      "text/plain": [
       "0    10/10/1949\n",
       "3    10/10/1956\n",
       "4    10/10/1960\n",
       "5    10/10/1961\n",
       "7    10/10/1965\n",
       "Name: date, dtype: object"
      ]
     },
     "execution_count": 12,
     "metadata": {},
     "output_type": "execute_result"
    }
   ],
   "source": [
    "df_us[\"date\"].head()"
   ]
  },
  {
   "cell_type": "code",
   "execution_count": 13,
   "metadata": {},
   "outputs": [
    {
     "data": {
      "text/plain": [
       "0    20:30\n",
       "3    21:00\n",
       "4    20:00\n",
       "5    19:00\n",
       "7    23:45\n",
       "Name: time, dtype: object"
      ]
     },
     "execution_count": 13,
     "metadata": {},
     "output_type": "execute_result"
    }
   ],
   "source": [
    "df_us[\"time\"].head()"
   ]
  },
  {
   "cell_type": "markdown",
   "metadata": {},
   "source": [
    "Observación: Existe en el dataset una hora \"24:00\" que no queda completamente claro si es \"00:00\" del mismo día o \"00:00\" del día siguiente, por lo que simplemente lo dejaremos tal cual."
   ]
  },
  {
   "cell_type": "markdown",
   "metadata": {},
   "source": [
    "**Pregunta 4.4: Genera nuevas columnas year, month, day, hour y minute con el año, mes, día, hora y minuto del avistamiento.** [5 puntos]\n",
    "\n",
    "Indique el código necesario para responder las preguntas y comente al respecto."
   ]
  },
  {
   "cell_type": "code",
   "execution_count": 25,
   "metadata": {},
   "outputs": [
    {
     "data": {
      "text/plain": [
       "0    1949\n",
       "3    1956\n",
       "4    1960\n",
       "5    1961\n",
       "7    1965\n",
       "Name: year, dtype: object"
      ]
     },
     "execution_count": 25,
     "metadata": {},
     "output_type": "execute_result"
    }
   ],
   "source": [
    "df_us['month'], df_us['day'], df_us['year'] = df_us[\"date\"].str.split(\"/\").str\n",
    "df_us[\"year\"].head()"
   ]
  },
  {
   "cell_type": "code",
   "execution_count": 26,
   "metadata": {},
   "outputs": [
    {
     "data": {
      "text/plain": [
       "0    20\n",
       "3    21\n",
       "4    20\n",
       "5    19\n",
       "7    23\n",
       "Name: hour, dtype: object"
      ]
     },
     "execution_count": 26,
     "metadata": {},
     "output_type": "execute_result"
    }
   ],
   "source": [
    "df_us['hour'], df_us['minute'] = df_us[\"time\"].str.split(\":\").str\n",
    "df_us['hour'].head()"
   ]
  },
  {
   "cell_type": "markdown",
   "metadata": {},
   "source": [
    "### D. Agrupación y pivoteo de datos."
   ]
  },
  {
   "cell_type": "markdown",
   "metadata": {},
   "source": [
    "**Pregunta 4.5: ¿En qué año se observaron más avistamientos? ¿En qué mes se observan más avistamientos? ¿En qué hora se realizan más avistamientos?** [5 puntos] \n",
    "\n",
    "Indique el código necesario para responder las preguntas y comente al respecto."
   ]
  },
  {
   "cell_type": "code",
   "execution_count": 29,
   "metadata": {},
   "outputs": [
    {
     "data": {
      "text/html": [
       "<div>\n",
       "<style scoped>\n",
       "    .dataframe tbody tr th:only-of-type {\n",
       "        vertical-align: middle;\n",
       "    }\n",
       "\n",
       "    .dataframe tbody tr th {\n",
       "        vertical-align: top;\n",
       "    }\n",
       "\n",
       "    .dataframe thead th {\n",
       "        text-align: right;\n",
       "    }\n",
       "</style>\n",
       "<table border=\"1\" class=\"dataframe\">\n",
       "  <thead>\n",
       "    <tr style=\"text-align: right;\">\n",
       "      <th></th>\n",
       "      <th>count</th>\n",
       "      <th>unique</th>\n",
       "      <th>top</th>\n",
       "      <th>freq</th>\n",
       "      <th>mean</th>\n",
       "      <th>std</th>\n",
       "      <th>min</th>\n",
       "      <th>25%</th>\n",
       "      <th>50%</th>\n",
       "      <th>75%</th>\n",
       "      <th>max</th>\n",
       "    </tr>\n",
       "  </thead>\n",
       "  <tbody>\n",
       "    <tr>\n",
       "      <td>datetime</td>\n",
       "      <td>65114</td>\n",
       "      <td>57074</td>\n",
       "      <td>7/4/2010 22:00</td>\n",
       "      <td>31</td>\n",
       "      <td>NaN</td>\n",
       "      <td>NaN</td>\n",
       "      <td>NaN</td>\n",
       "      <td>NaN</td>\n",
       "      <td>NaN</td>\n",
       "      <td>NaN</td>\n",
       "      <td>NaN</td>\n",
       "    </tr>\n",
       "    <tr>\n",
       "      <td>city</td>\n",
       "      <td>65114</td>\n",
       "      <td>11364</td>\n",
       "      <td>seattle</td>\n",
       "      <td>524</td>\n",
       "      <td>NaN</td>\n",
       "      <td>NaN</td>\n",
       "      <td>NaN</td>\n",
       "      <td>NaN</td>\n",
       "      <td>NaN</td>\n",
       "      <td>NaN</td>\n",
       "      <td>NaN</td>\n",
       "    </tr>\n",
       "    <tr>\n",
       "      <td>state</td>\n",
       "      <td>65114</td>\n",
       "      <td>52</td>\n",
       "      <td>ca</td>\n",
       "      <td>8912</td>\n",
       "      <td>NaN</td>\n",
       "      <td>NaN</td>\n",
       "      <td>NaN</td>\n",
       "      <td>NaN</td>\n",
       "      <td>NaN</td>\n",
       "      <td>NaN</td>\n",
       "      <td>NaN</td>\n",
       "    </tr>\n",
       "    <tr>\n",
       "      <td>country</td>\n",
       "      <td>65114</td>\n",
       "      <td>1</td>\n",
       "      <td>us</td>\n",
       "      <td>65114</td>\n",
       "      <td>NaN</td>\n",
       "      <td>NaN</td>\n",
       "      <td>NaN</td>\n",
       "      <td>NaN</td>\n",
       "      <td>NaN</td>\n",
       "      <td>NaN</td>\n",
       "      <td>NaN</td>\n",
       "    </tr>\n",
       "    <tr>\n",
       "      <td>shape</td>\n",
       "      <td>65114</td>\n",
       "      <td>29</td>\n",
       "      <td>light</td>\n",
       "      <td>13473</td>\n",
       "      <td>NaN</td>\n",
       "      <td>NaN</td>\n",
       "      <td>NaN</td>\n",
       "      <td>NaN</td>\n",
       "      <td>NaN</td>\n",
       "      <td>NaN</td>\n",
       "      <td>NaN</td>\n",
       "    </tr>\n",
       "    <tr>\n",
       "      <td>duration (seconds)</td>\n",
       "      <td>65114</td>\n",
       "      <td>468</td>\n",
       "      <td>300</td>\n",
       "      <td>7105</td>\n",
       "      <td>NaN</td>\n",
       "      <td>NaN</td>\n",
       "      <td>NaN</td>\n",
       "      <td>NaN</td>\n",
       "      <td>NaN</td>\n",
       "      <td>NaN</td>\n",
       "      <td>NaN</td>\n",
       "    </tr>\n",
       "    <tr>\n",
       "      <td>duration (hours/min)</td>\n",
       "      <td>65114</td>\n",
       "      <td>6850</td>\n",
       "      <td>5 minutes</td>\n",
       "      <td>3995</td>\n",
       "      <td>NaN</td>\n",
       "      <td>NaN</td>\n",
       "      <td>NaN</td>\n",
       "      <td>NaN</td>\n",
       "      <td>NaN</td>\n",
       "      <td>NaN</td>\n",
       "      <td>NaN</td>\n",
       "    </tr>\n",
       "    <tr>\n",
       "      <td>comments</td>\n",
       "      <td>65114</td>\n",
       "      <td>64866</td>\n",
       "      <td></td>\n",
       "      <td>13</td>\n",
       "      <td>NaN</td>\n",
       "      <td>NaN</td>\n",
       "      <td>NaN</td>\n",
       "      <td>NaN</td>\n",
       "      <td>NaN</td>\n",
       "      <td>NaN</td>\n",
       "      <td>NaN</td>\n",
       "    </tr>\n",
       "    <tr>\n",
       "      <td>date posted</td>\n",
       "      <td>65114</td>\n",
       "      <td>315</td>\n",
       "      <td>12/12/2009</td>\n",
       "      <td>1246</td>\n",
       "      <td>NaN</td>\n",
       "      <td>NaN</td>\n",
       "      <td>NaN</td>\n",
       "      <td>NaN</td>\n",
       "      <td>NaN</td>\n",
       "      <td>NaN</td>\n",
       "      <td>NaN</td>\n",
       "    </tr>\n",
       "    <tr>\n",
       "      <td>latitude</td>\n",
       "      <td>65114</td>\n",
       "      <td>11615</td>\n",
       "      <td>47.6063889</td>\n",
       "      <td>581</td>\n",
       "      <td>NaN</td>\n",
       "      <td>NaN</td>\n",
       "      <td>NaN</td>\n",
       "      <td>NaN</td>\n",
       "      <td>NaN</td>\n",
       "      <td>NaN</td>\n",
       "      <td>NaN</td>\n",
       "    </tr>\n",
       "    <tr>\n",
       "      <td>longitude</td>\n",
       "      <td>65114</td>\n",
       "      <td>12430</td>\n",
       "      <td>-122.3308333</td>\n",
       "      <td>581</td>\n",
       "      <td>NaN</td>\n",
       "      <td>NaN</td>\n",
       "      <td>NaN</td>\n",
       "      <td>NaN</td>\n",
       "      <td>NaN</td>\n",
       "      <td>NaN</td>\n",
       "      <td>NaN</td>\n",
       "    </tr>\n",
       "    <tr>\n",
       "      <td>duration_in_days</td>\n",
       "      <td>65114</td>\n",
       "      <td>NaN</td>\n",
       "      <td>NaN</td>\n",
       "      <td>NaN</td>\n",
       "      <td>0.0671298</td>\n",
       "      <td>4.68187</td>\n",
       "      <td>1.15741e-07</td>\n",
       "      <td>0.000347222</td>\n",
       "      <td>0.00208333</td>\n",
       "      <td>0.00694444</td>\n",
       "      <td>767.083</td>\n",
       "    </tr>\n",
       "    <tr>\n",
       "      <td>date</td>\n",
       "      <td>65114</td>\n",
       "      <td>9818</td>\n",
       "      <td>7/4/2010</td>\n",
       "      <td>183</td>\n",
       "      <td>NaN</td>\n",
       "      <td>NaN</td>\n",
       "      <td>NaN</td>\n",
       "      <td>NaN</td>\n",
       "      <td>NaN</td>\n",
       "      <td>NaN</td>\n",
       "      <td>NaN</td>\n",
       "    </tr>\n",
       "    <tr>\n",
       "      <td>time</td>\n",
       "      <td>65114</td>\n",
       "      <td>1356</td>\n",
       "      <td>22:00</td>\n",
       "      <td>3782</td>\n",
       "      <td>NaN</td>\n",
       "      <td>NaN</td>\n",
       "      <td>NaN</td>\n",
       "      <td>NaN</td>\n",
       "      <td>NaN</td>\n",
       "      <td>NaN</td>\n",
       "      <td>NaN</td>\n",
       "    </tr>\n",
       "    <tr>\n",
       "      <td>day</td>\n",
       "      <td>65114</td>\n",
       "      <td>31</td>\n",
       "      <td>15</td>\n",
       "      <td>4686</td>\n",
       "      <td>NaN</td>\n",
       "      <td>NaN</td>\n",
       "      <td>NaN</td>\n",
       "      <td>NaN</td>\n",
       "      <td>NaN</td>\n",
       "      <td>NaN</td>\n",
       "      <td>NaN</td>\n",
       "    </tr>\n",
       "    <tr>\n",
       "      <td>month</td>\n",
       "      <td>65114</td>\n",
       "      <td>12</td>\n",
       "      <td>7</td>\n",
       "      <td>7639</td>\n",
       "      <td>NaN</td>\n",
       "      <td>NaN</td>\n",
       "      <td>NaN</td>\n",
       "      <td>NaN</td>\n",
       "      <td>NaN</td>\n",
       "      <td>NaN</td>\n",
       "      <td>NaN</td>\n",
       "    </tr>\n",
       "    <tr>\n",
       "      <td>year</td>\n",
       "      <td>65114</td>\n",
       "      <td>83</td>\n",
       "      <td>2012</td>\n",
       "      <td>6320</td>\n",
       "      <td>NaN</td>\n",
       "      <td>NaN</td>\n",
       "      <td>NaN</td>\n",
       "      <td>NaN</td>\n",
       "      <td>NaN</td>\n",
       "      <td>NaN</td>\n",
       "      <td>NaN</td>\n",
       "    </tr>\n",
       "    <tr>\n",
       "      <td>minute</td>\n",
       "      <td>65114</td>\n",
       "      <td>60</td>\n",
       "      <td>00</td>\n",
       "      <td>26596</td>\n",
       "      <td>NaN</td>\n",
       "      <td>NaN</td>\n",
       "      <td>NaN</td>\n",
       "      <td>NaN</td>\n",
       "      <td>NaN</td>\n",
       "      <td>NaN</td>\n",
       "      <td>NaN</td>\n",
       "    </tr>\n",
       "    <tr>\n",
       "      <td>hour</td>\n",
       "      <td>65114</td>\n",
       "      <td>25</td>\n",
       "      <td>21</td>\n",
       "      <td>9647</td>\n",
       "      <td>NaN</td>\n",
       "      <td>NaN</td>\n",
       "      <td>NaN</td>\n",
       "      <td>NaN</td>\n",
       "      <td>NaN</td>\n",
       "      <td>NaN</td>\n",
       "      <td>NaN</td>\n",
       "    </tr>\n",
       "  </tbody>\n",
       "</table>\n",
       "</div>"
      ],
      "text/plain": [
       "                      count unique             top   freq       mean      std  \\\n",
       "datetime              65114  57074  7/4/2010 22:00     31        NaN      NaN   \n",
       "city                  65114  11364         seattle    524        NaN      NaN   \n",
       "state                 65114     52              ca   8912        NaN      NaN   \n",
       "country               65114      1              us  65114        NaN      NaN   \n",
       "shape                 65114     29           light  13473        NaN      NaN   \n",
       "duration (seconds)    65114    468             300   7105        NaN      NaN   \n",
       "duration (hours/min)  65114   6850       5 minutes   3995        NaN      NaN   \n",
       "comments              65114  64866                     13        NaN      NaN   \n",
       "date posted           65114    315      12/12/2009   1246        NaN      NaN   \n",
       "latitude              65114  11615      47.6063889    581        NaN      NaN   \n",
       "longitude             65114  12430    -122.3308333    581        NaN      NaN   \n",
       "duration_in_days      65114    NaN             NaN    NaN  0.0671298  4.68187   \n",
       "date                  65114   9818        7/4/2010    183        NaN      NaN   \n",
       "time                  65114   1356           22:00   3782        NaN      NaN   \n",
       "day                   65114     31              15   4686        NaN      NaN   \n",
       "month                 65114     12               7   7639        NaN      NaN   \n",
       "year                  65114     83            2012   6320        NaN      NaN   \n",
       "minute                65114     60              00  26596        NaN      NaN   \n",
       "hour                  65114     25              21   9647        NaN      NaN   \n",
       "\n",
       "                              min          25%         50%         75%  \\\n",
       "datetime                      NaN          NaN         NaN         NaN   \n",
       "city                          NaN          NaN         NaN         NaN   \n",
       "state                         NaN          NaN         NaN         NaN   \n",
       "country                       NaN          NaN         NaN         NaN   \n",
       "shape                         NaN          NaN         NaN         NaN   \n",
       "duration (seconds)            NaN          NaN         NaN         NaN   \n",
       "duration (hours/min)          NaN          NaN         NaN         NaN   \n",
       "comments                      NaN          NaN         NaN         NaN   \n",
       "date posted                   NaN          NaN         NaN         NaN   \n",
       "latitude                      NaN          NaN         NaN         NaN   \n",
       "longitude                     NaN          NaN         NaN         NaN   \n",
       "duration_in_days      1.15741e-07  0.000347222  0.00208333  0.00694444   \n",
       "date                          NaN          NaN         NaN         NaN   \n",
       "time                          NaN          NaN         NaN         NaN   \n",
       "day                           NaN          NaN         NaN         NaN   \n",
       "month                         NaN          NaN         NaN         NaN   \n",
       "year                          NaN          NaN         NaN         NaN   \n",
       "minute                        NaN          NaN         NaN         NaN   \n",
       "hour                          NaN          NaN         NaN         NaN   \n",
       "\n",
       "                          max  \n",
       "datetime                  NaN  \n",
       "city                      NaN  \n",
       "state                     NaN  \n",
       "country                   NaN  \n",
       "shape                     NaN  \n",
       "duration (seconds)        NaN  \n",
       "duration (hours/min)      NaN  \n",
       "comments                  NaN  \n",
       "date posted               NaN  \n",
       "latitude                  NaN  \n",
       "longitude                 NaN  \n",
       "duration_in_days      767.083  \n",
       "date                      NaN  \n",
       "time                      NaN  \n",
       "day                       NaN  \n",
       "month                     NaN  \n",
       "year                      NaN  \n",
       "minute                    NaN  \n",
       "hour                      NaN  "
      ]
     },
     "execution_count": 29,
     "metadata": {},
     "output_type": "execute_result"
    }
   ],
   "source": [
    "# Para responder estas preguntas basta usar el comando describe\n",
    "df_us.describe(include=\"all\").T"
   ]
  },
  {
   "cell_type": "markdown",
   "metadata": {},
   "source": [
    "1) ¿En qué año se observaron más avistamientos? \n",
    "\n",
    "**R: En el año 2012 con 6320 avistamientos.**\n",
    "\n",
    "2) ¿En qué mes se observan más avistamientos?\n",
    "\n",
    "**R: En el mes de julio (7) con 7639 avistamientos.**\n",
    "\n",
    "3) ¿En qué hora se realizan más avistamientos?\n",
    "\n",
    "**R: A las 21 horas con 9647 avistamientos.**"
   ]
  },
  {
   "cell_type": "markdown",
   "metadata": {},
   "source": [
    "**Pregunta 4.6: ¿Cuántos avistamientos y qué porcentaje de avistamientos de tipo \"platillo volador clásico\" se observan por año en cada estado?** [5 puntos]\n",
    "\n",
    "Definamos como forma *\"platillo volador clásico\"* a los avistamientos que poseen forma triangular, circular, esferica, ovalada o disco (triangle, circle, sphere, disk u oval). ¿Cómo podemos calcular que porcentaje de avistamientos **por año** corresponden a este tipo?\n",
    "\n",
    "Los pasos a realizar los son siguientes:\n",
    "\n",
    "1.- Definir una variable que permita distinguir a los patillos voladores clásicos de los otros. En general, se recomienda usar 1 para \"platillo volador clasico\" y 0 para otro caso, para poder usar las funciones suma y count.\n",
    "\n",
    "2.- Realizar un groupby apropiado y realizar el conteo necesario.\n",
    "\n",
    "3.- Realizar la estadística respectiva."
   ]
  },
  {
   "cell_type": "code",
   "execution_count": 77,
   "metadata": {},
   "outputs": [],
   "source": [
    "# 1. Definición de variable apropiada\n",
    "df_us[\"is_flying_saucer\"] = 0\n",
    "\n",
    "k = 0\n",
    "for i in df_us['shape']:\n",
    "    if(i == \"triangle\" or i == \"circle\" or i == \"sphere\" or i == \"disk\" or i == \"oval\"):\n",
    "        df_us[\"is_flying_saucer\"].iloc[[k]]='1'\n",
    "    k = k+1"
   ]
  },
  {
   "cell_type": "code",
   "execution_count": 130,
   "metadata": {},
   "outputs": [],
   "source": [
    "# 2. Groupby\n",
    "df_count = df_us.groupby('state')\n",
    "\n",
    "estados = []\n",
    "porcentajes = []\n",
    "\n",
    "for i in df_count.groups:\n",
    "    estado = df_count.get_group(i) \n",
    "    estados.append(i)\n",
    "    suma = 0\n",
    "    for k in estado['is_flying_saucer']:\n",
    "            if(k == '1'):\n",
    "                suma = suma+1\n",
    "    total = len(list(estado['is_flying_saucer']))\n",
    "    porcentajes.append(suma*100/total)    "
   ]
  },
  {
   "cell_type": "code",
   "execution_count": 131,
   "metadata": {},
   "outputs": [
    {
     "name": "stdout",
     "output_type": "stream",
     "text": [
      "El estado ak tiene 39 % de avistamientos clásicos.\n",
      "El estado al tiene 40 % de avistamientos clásicos.\n",
      "El estado ar tiene 39 % de avistamientos clásicos.\n",
      "El estado az tiene 35 % de avistamientos clásicos.\n",
      "El estado ca tiene 37 % de avistamientos clásicos.\n",
      "El estado co tiene 38 % de avistamientos clásicos.\n",
      "El estado ct tiene 36 % de avistamientos clásicos.\n",
      "El estado dc tiene 29 % de avistamientos clásicos.\n",
      "El estado de tiene 50 % de avistamientos clásicos.\n",
      "El estado fl tiene 36 % de avistamientos clásicos.\n",
      "El estado ga tiene 39 % de avistamientos clásicos.\n",
      "El estado hi tiene 37 % de avistamientos clásicos.\n",
      "El estado ia tiene 38 % de avistamientos clásicos.\n",
      "El estado id tiene 36 % de avistamientos clásicos.\n",
      "El estado il tiene 39 % de avistamientos clásicos.\n",
      "El estado in tiene 37 % de avistamientos clásicos.\n",
      "El estado ks tiene 33 % de avistamientos clásicos.\n",
      "El estado ky tiene 39 % de avistamientos clásicos.\n",
      "El estado la tiene 40 % de avistamientos clásicos.\n",
      "El estado ma tiene 40 % de avistamientos clásicos.\n",
      "El estado md tiene 41 % de avistamientos clásicos.\n",
      "El estado me tiene 42 % de avistamientos clásicos.\n",
      "El estado mi tiene 38 % de avistamientos clásicos.\n",
      "El estado mn tiene 38 % de avistamientos clásicos.\n",
      "El estado mo tiene 37 % de avistamientos clásicos.\n",
      "El estado ms tiene 40 % de avistamientos clásicos.\n",
      "El estado mt tiene 31 % de avistamientos clásicos.\n",
      "El estado nc tiene 38 % de avistamientos clásicos.\n",
      "El estado nd tiene 42 % de avistamientos clásicos.\n",
      "El estado ne tiene 35 % de avistamientos clásicos.\n",
      "El estado nh tiene 38 % de avistamientos clásicos.\n",
      "El estado nj tiene 40 % de avistamientos clásicos.\n",
      "El estado nm tiene 31 % de avistamientos clásicos.\n",
      "El estado nv tiene 34 % de avistamientos clásicos.\n",
      "El estado ny tiene 39 % de avistamientos clásicos.\n",
      "El estado oh tiene 40 % de avistamientos clásicos.\n",
      "El estado ok tiene 34 % de avistamientos clásicos.\n",
      "El estado or tiene 35 % de avistamientos clásicos.\n",
      "El estado pa tiene 38 % de avistamientos clásicos.\n",
      "El estado pr tiene 48 % de avistamientos clásicos.\n",
      "El estado ri tiene 37 % de avistamientos clásicos.\n",
      "El estado sc tiene 35 % de avistamientos clásicos.\n",
      "El estado sd tiene 30 % de avistamientos clásicos.\n",
      "El estado tn tiene 38 % de avistamientos clásicos.\n",
      "El estado tx tiene 37 % de avistamientos clásicos.\n",
      "El estado ut tiene 39 % de avistamientos clásicos.\n",
      "El estado va tiene 40 % de avistamientos clásicos.\n",
      "El estado vt tiene 35 % de avistamientos clásicos.\n",
      "El estado wa tiene 33 % de avistamientos clásicos.\n",
      "El estado wi tiene 34 % de avistamientos clásicos.\n",
      "El estado wv tiene 38 % de avistamientos clásicos.\n",
      "El estado wy tiene 34 % de avistamientos clásicos.\n"
     ]
    }
   ],
   "source": [
    "for i in range(len(estados)):\n",
    "    print(\"El estado\", estados[i], \"tiene\", round(porcentajes[i]),\"% de avistamientos clásicos.\")"
   ]
  },
  {
   "cell_type": "markdown",
   "metadata": {},
   "source": [
    "R: *< < RESPUESTA > >*"
   ]
  },
  {
   "cell_type": "markdown",
   "metadata": {},
   "source": [
    "**Pregunta 4.7: Pivotee la tabla anterior para que se indique en cada fila, un año con la cantidad de avistamientos de tipo platillo volador para cada estado.** [5 puntos]\n",
    "\n",
    "La tabla debería tener como columnas: `state`, `ak`, `al`, `az`, ..., `wi`, `wv`, `wy`. Utilice `fillna` para llenar con string vacío para facilitar la lectura de la tabla. \n",
    "\n",
    "Indique el código y comente."
   ]
  },
  {
   "cell_type": "code",
   "execution_count": null,
   "metadata": {},
   "outputs": [],
   "source": [
    "# R:\n",
    "#df_pt = "
   ]
  },
  {
   "cell_type": "markdown",
   "metadata": {},
   "source": [
    "R: *< < RESPUESTA > >*"
   ]
  },
  {
   "cell_type": "markdown",
   "metadata": {},
   "source": [
    "A continuación, realizaremos varios pasos para conocer cuál estado de EEUU tiene más avistamientos por persona por año.\n",
    "\n",
    "Inocentemente, uno podría pensar que el mejor lugar para realizar avistamientos de ovnis es el lugar donde existen más registros de avistamientos. Sin embargo, resulta natural que existan más avistamientos en los lugares donde existe un mayor asentamiento de personas. Un indicador más representativo de la posibilidad de realizar un avistamiento es el número de observaciones por cada 10,000 personas. Sin embargo, como no tenemos la población de cada estado en esta tabla tendremos que ¡mezclar distintas tablas!\n",
    "\n",
    "Lamentablemente no es posible conseguir fácilmente una tabla con la población de cada estado, a través de los años. Sin embargo, como nos interesan las estadísticas más recientes, podemos considerar que la proporción entre los distintos estados no ha cambiado mayormente en los últimos años, al menos en estas estadísticas iniciales. Por ende, las estadísticas proporcionadas por https://datamarket.com nos sirven como una buena referencia de población por estado. \n",
    "\n",
    "El archivo `data/us-population-by-state-and-count.csv` contiene la población por estado para el año 2012, el cual se encuentra en formato csv pero con separador `;`.\n",
    "\n",
    "Abramos el archivo en un dataframe llamado `df_pop`:"
   ]
  },
  {
   "cell_type": "code",
   "execution_count": null,
   "metadata": {},
   "outputs": [],
   "source": [
    "df_pop = pd.read_csv(\"data/us-population-by-state-and-count.csv\", sep=\";\")\n",
    "df_pop.head()"
   ]
  },
  {
   "cell_type": "markdown",
   "metadata": {},
   "source": [
    "¡Los estados aparecen con su nombre completo y no con la abreviación como en el archivo de los OVNIS!\n",
    "Afortunadamente, existe un tercer archivo que permite hacer la relación entre los archivos."
   ]
  },
  {
   "cell_type": "code",
   "execution_count": null,
   "metadata": {},
   "outputs": [],
   "source": [
    "df_abr = pd.read_csv(\"data/us-abbreviation.csv\", sep=\";\")\n",
    "df_abr.head()"
   ]
  },
  {
   "cell_type": "markdown",
   "metadata": {},
   "source": [
    "Realizaremos un merge entre los dataframes `df_pop` y `df_abr` para obtener un dataframe `df_pop_abr` con cuatro columnas: state_name, state_population, State Name,y State Abbreviation. "
   ]
  },
  {
   "cell_type": "code",
   "execution_count": null,
   "metadata": {},
   "outputs": [],
   "source": [
    "# Merge de nuestros dataframes\n",
    "df_pop_abr = df_pop.merge(df_abr, left_on=[\"state_name\"], right_on=[\"State Name\"], how=\"outer\").fillna(\"\")\n",
    "df_pop_abr"
   ]
  },
  {
   "cell_type": "markdown",
   "metadata": {},
   "source": [
    "**Pregunta 4.8:  Realice un poco de limpieza antes del segundo merge.**  [5 puntos]\n",
    "\n",
    "La columna con la que haremos el merge se llama `\"state\"` y tiene el código de los estados en minúsculas. Para que todo funcione más facil, resulta conveniente subseleccionar las columnas y usar minúsculas en un nuevo dataframe que llamaremos `df_r` y que debería verse así:\n",
    "\n",
    "```\n",
    "state    state_name    state_population\n",
    "al       Alabama       4777326\n",
    "...\n",
    "wy       Wyoming       562803\n",
    "```\n",
    "\n",
    "\n",
    "Indique el código necesario."
   ]
  },
  {
   "cell_type": "code",
   "execution_count": null,
   "metadata": {},
   "outputs": [],
   "source": [
    "# R: << CODIGO ACA >>\n",
    "#df_pop_abr[\"state\"] = \n",
    "#df_r = \n",
    "#df_r"
   ]
  },
  {
   "cell_type": "markdown",
   "metadata": {},
   "source": [
    "R: *< < COMENTAR AQUI > >*"
   ]
  },
  {
   "cell_type": "markdown",
   "metadata": {},
   "source": [
    "**Pregunta 4.9:  Calcule la cantidad de avistamientos en cada etado, durante los últimos 5 años, almacenandolo en un dataframe llamado `df_state_5y`** [5 puntos]\n",
    " \n",
    "Indique el código necesario para responder la pregunta y comente al respecto."
   ]
  },
  {
   "cell_type": "code",
   "execution_count": null,
   "metadata": {},
   "outputs": [],
   "source": [
    "#df_5y = \n",
    "#df_state_5y = \n",
    "#df_state_5y[\"sightings_in_5_years\"] = \n",
    "#df_state_5y"
   ]
  },
  {
   "cell_type": "markdown",
   "metadata": {},
   "source": [
    "**Pregunta 4.10:  Realice un segundo merge, entre los dataframes `df_state_5y` y `df_r` para obtener un dataframe `df_sight` en el cual se agregue la columna de population.**  [5 puntos]\n",
    "\n",
    "Indique el código necesario para responder la pregunta y comente al respecto."
   ]
  },
  {
   "cell_type": "code",
   "execution_count": null,
   "metadata": {},
   "outputs": [],
   "source": [
    "#df_sight = \n",
    "#df_sight"
   ]
  },
  {
   "cell_type": "markdown",
   "metadata": {},
   "source": [
    "R: *< < COMENTAR AQUI > >*"
   ]
  },
  {
   "cell_type": "markdown",
   "metadata": {},
   "source": [
    "**Pregunta 4.11:  Agregue una columna llamada `expected_sightings` indicando la cantidad de avistamientos esperados para 10,000 personas a lo largo de 5 años.**  [5 puntos]\n",
    "\n",
    "Indique el código necesario para responder la pregunta y comente al respecto."
   ]
  },
  {
   "cell_type": "code",
   "execution_count": null,
   "metadata": {},
   "outputs": [],
   "source": [
    "#df_sight[\"expected_sightings\"] "
   ]
  },
  {
   "cell_type": "markdown",
   "metadata": {},
   "source": [
    "R: *< < COMENTAR AQUI > >*"
   ]
  },
  {
   "cell_type": "markdown",
   "metadata": {},
   "source": [
    "**Pregunta 4.12: Ordenando por la columna `expected_sightings`, ¿cuáles son los 3 mejores estados de EEUU para avistar OVNIS?. ¿Cuál otro factor, a su juicio, hubiera sido importante a considerar?**  [5 puntos]\n",
    "\n",
    "Indique el código necesario para responder la pregunta y comente al respecto."
   ]
  },
  {
   "cell_type": "code",
   "execution_count": null,
   "metadata": {},
   "outputs": [],
   "source": [
    "#df_sight"
   ]
  },
  {
   "cell_type": "markdown",
   "metadata": {},
   "source": [
    "R: *< < COMENTAR AQUI > >*"
   ]
  },
  {
   "cell_type": "markdown",
   "metadata": {},
   "source": [
    "## Tema 4 - Retroalimentación sobre el curso [0 puntos]\n",
    "\n",
    "Esta sección **no será evaluada** pero nos permitirá obtener retroalimentación de las clases, tareas y laboratorios. Puedes ser completamente sincero, pues no será parte de la evaluación de esta tarea (ni de futuras).\n",
    "\n",
    "**1**. ¿Aproximadamente cuánto tiempo, en horas, te tomó terminar la tarea?\n",
    "\n",
    "*R: << RESPUESTA DEL ALUMNO >>*\n",
    "\n",
    "**2**. ¿Qué tan interesante es esta tarea (0-100)?\n",
    "\n",
    "*R: << RESPUESTA DEL ALUMNO >>*\n",
    "\n",
    "**3**. ¿Qué tan difícil fue esta tarea (0-100)? Siendo 0 complemente trivial, 100 completamente imposible y 50 siendo una complejidad apropiada.\n",
    "\n",
    "*R: << RESPUESTA DEL ALUMNO >>*\n",
    "\n",
    "        "
   ]
  }
 ],
 "metadata": {
  "celltoolbar": "Slideshow",
  "kernelspec": {
   "display_name": "Python 3",
   "language": "python",
   "name": "python3"
  },
  "language_info": {
   "codemirror_mode": {
    "name": "ipython",
    "version": 3
   },
   "file_extension": ".py",
   "mimetype": "text/x-python",
   "name": "python",
   "nbconvert_exporter": "python",
   "pygments_lexer": "ipython3",
   "version": "3.7.4"
  }
 },
 "nbformat": 4,
 "nbformat_minor": 4
}
