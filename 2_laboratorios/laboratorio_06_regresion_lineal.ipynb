{
 "cells": [
  {
   "cell_type": "markdown",
   "metadata": {},
   "source": [
    "<img src=\"images/usm.png\" width=\"480\" height=\"240\" align=\"left\"/>"
   ]
  },
  {
   "cell_type": "markdown",
   "metadata": {},
   "source": [
    "# MAT281 - 2° Semestre 2019\n",
    "## Aplicaciones de la Matemática en la Ingeniería\n",
    "\n",
    "\n",
    "EL siguiente laboratorio debe realizarse de manera individual. No es posible copiar y pegar código de otros estudiantes. \n",
    "Pueden consultar internet (stackoverflow, por ejemplo), pero deben indicar sus fuentes cuando corresponda.\n",
    "\n",
    "**Nombre**: Joaquín Silva\n",
    "\n",
    "**Rol**: 201604611-9\n"
   ]
  },
  {
   "cell_type": "markdown",
   "metadata": {},
   "source": [
    "## Objetivos del laboratorio\n",
    "\n",
    "* Reforzar conceptos básicos de regresión lineal.\n"
   ]
  },
  {
   "cell_type": "markdown",
   "metadata": {},
   "source": [
    "## Contenidos\n",
    "\n",
    "* [Problema 01](#p1)\n"
   ]
  },
  {
   "cell_type": "markdown",
   "metadata": {},
   "source": [
    "<a id='p1'></a>\n",
    "## I.- Problema 01\n",
    "\n",
    "\n",
    "<img src=\"https://images-na.ssl-images-amazon.com/images/I/717VaRblQCL._UX679_.jpg\" width=\"360\" height=\"360\" align=\"center\"/>\n",
    "\n",
    "\n",
    "El conjunto de datos se denomina `serie_poleras.csv` y consta de las ventas de poleras durante los años del 2016 al 2019. \n",
    "\n",
    "El objetivo es predecir el precio de la polera basados en el número de ventas que se obtiene.\n",
    "\n",
    "\n",
    "Primero es necesario definir la [elasticidad](https://en.wikipedia.org/wiki/Elasticity_(economics)) (en el sentido económico). La **elasticidad demanda-precio** o simplemente **elasticidad de la demanda**, mide la variación relativa o porcentual que experimenta la cantidad demandada como consecuencia de una variación en el precio de un uno por ciento, en otras palabras mide la intensidad con la que responden los compradores a una variación en el precio.\n",
    "\n",
    "\n",
    "- Cuando la reducción del precio (P) hace que la cantidad demandada (Q) aumente tanto que la multiplicación de (P * Q) sea mayor a la original, se presenta una demanda elástica.E>1\n",
    "- Cuando la reducción del precio (P) hace que la cantidad demandada (Q) aumente en proporciones iguales y (P * Q) sea igual, la elasticidad es proporcional o igual a 1.\n",
    "- Cuando la reducción del precio (P) hace que la cantidad demandada (Q) aumente muy poco o nada que la multiplicación de (P * Q) es menor a la original, se afirma que la demanda de un bien es inelástica o rígida. E<1"
   ]
  },
  {
   "cell_type": "markdown",
   "metadata": {},
   "source": [
    "Este concepto será clave para realizar una correcta predición en los resultados. Ahora, a modo de ayuda, analicemos los datos."
   ]
  },
  {
   "cell_type": "code",
   "execution_count": 1,
   "metadata": {},
   "outputs": [],
   "source": [
    "import os\n",
    "import numpy as np\n",
    "import pandas as pd\n",
    "import matplotlib.pyplot as plt\n",
    "import seaborn as sns\n",
    "from sklearn import linear_model, model_selection\n",
    "\n",
    "%matplotlib inline\n",
    "sns.set_palette(\"deep\", desat=.6)\n",
    "sns.set_context(rc={\"figure.figsize\": (8, 4)})"
   ]
  },
  {
   "cell_type": "code",
   "execution_count": 2,
   "metadata": {},
   "outputs": [
    {
     "data": {
      "text/html": [
       "<div>\n",
       "<style scoped>\n",
       "    .dataframe tbody tr th:only-of-type {\n",
       "        vertical-align: middle;\n",
       "    }\n",
       "\n",
       "    .dataframe tbody tr th {\n",
       "        vertical-align: top;\n",
       "    }\n",
       "\n",
       "    .dataframe thead th {\n",
       "        text-align: right;\n",
       "    }\n",
       "</style>\n",
       "<table border=\"1\" class=\"dataframe\">\n",
       "  <thead>\n",
       "    <tr style=\"text-align: right;\">\n",
       "      <th></th>\n",
       "      <th>FECHA_LUNES</th>\n",
       "      <th>VENTA</th>\n",
       "      <th>PRECIO</th>\n",
       "      <th>STOCK</th>\n",
       "      <th>NAVIDAD</th>\n",
       "      <th>VERANO</th>\n",
       "      <th>PRIMAVERA</th>\n",
       "    </tr>\n",
       "  </thead>\n",
       "  <tbody>\n",
       "    <tr>\n",
       "      <td>0</td>\n",
       "      <td>2016-11-28</td>\n",
       "      <td>4031</td>\n",
       "      <td>482.629433</td>\n",
       "      <td>218477.00</td>\n",
       "      <td>0</td>\n",
       "      <td>1</td>\n",
       "      <td>1</td>\n",
       "    </tr>\n",
       "    <tr>\n",
       "      <td>1</td>\n",
       "      <td>2016-12-05</td>\n",
       "      <td>8236</td>\n",
       "      <td>496.487690</td>\n",
       "      <td>209313.00</td>\n",
       "      <td>0</td>\n",
       "      <td>1</td>\n",
       "      <td>1</td>\n",
       "    </tr>\n",
       "    <tr>\n",
       "      <td>2</td>\n",
       "      <td>2016-12-12</td>\n",
       "      <td>11798</td>\n",
       "      <td>490.107492</td>\n",
       "      <td>225950.00</td>\n",
       "      <td>0</td>\n",
       "      <td>1</td>\n",
       "      <td>1</td>\n",
       "    </tr>\n",
       "    <tr>\n",
       "      <td>3</td>\n",
       "      <td>2016-12-19</td>\n",
       "      <td>15749</td>\n",
       "      <td>527.144433</td>\n",
       "      <td>155811.00</td>\n",
       "      <td>1</td>\n",
       "      <td>1</td>\n",
       "      <td>1</td>\n",
       "    </tr>\n",
       "    <tr>\n",
       "      <td>4</td>\n",
       "      <td>2016-12-26</td>\n",
       "      <td>5838</td>\n",
       "      <td>476.613886</td>\n",
       "      <td>139957.99</td>\n",
       "      <td>0</td>\n",
       "      <td>1</td>\n",
       "      <td>1</td>\n",
       "    </tr>\n",
       "  </tbody>\n",
       "</table>\n",
       "</div>"
      ],
      "text/plain": [
       "  FECHA_LUNES  VENTA      PRECIO      STOCK  NAVIDAD  VERANO  PRIMAVERA\n",
       "0  2016-11-28   4031  482.629433  218477.00        0       1          1\n",
       "1  2016-12-05   8236  496.487690  209313.00        0       1          1\n",
       "2  2016-12-12  11798  490.107492  225950.00        0       1          1\n",
       "3  2016-12-19  15749  527.144433  155811.00        1       1          1\n",
       "4  2016-12-26   5838  476.613886  139957.99        0       1          1"
      ]
     },
     "execution_count": 2,
     "metadata": {},
     "output_type": "execute_result"
    }
   ],
   "source": [
    "# cargar datos\n",
    "df = pd.read_csv(os.path.join(\"data\",\"serie_poleras.csv\"), sep=\",\")\n",
    "\n",
    "df = df[['FECHA_LUNES',\n",
    "        'VENTA',\n",
    "        'PRECIO',\n",
    "         'STOCK',\n",
    "         'NAVIDAD',\n",
    "         'VERANO',\n",
    "        'PRIMAVERA']]\n",
    "\n",
    "df['FECHA_LUNES'] = pd.to_datetime(df['FECHA_LUNES'])\n",
    "df.head()"
   ]
  },
  {
   "cell_type": "code",
   "execution_count": 3,
   "metadata": {},
   "outputs": [
    {
     "data": {
      "text/plain": [
       "Timestamp('2019-08-26 00:00:00')"
      ]
     },
     "execution_count": 3,
     "metadata": {},
     "output_type": "execute_result"
    }
   ],
   "source": [
    "df[\"FECHA_LUNES\"].max()"
   ]
  },
  {
   "cell_type": "markdown",
   "metadata": {},
   "source": [
    "Le presentamos dos graficos de interés.\n",
    "\n",
    "### a) Precio vs ventas\n",
    "\n",
    "Dado que se quiere predecir el precio basado en las ventas de poleras, es necesario analizar la relación que existe entre ambos mediante un gráfico."
   ]
  },
  {
   "cell_type": "code",
   "execution_count": 9,
   "metadata": {},
   "outputs": [
    {
     "data": {
      "image/png": "[encoded data removed]",
      "text/plain": [
       "<Figure size 864x432 with 1 Axes>"
      ]
     },
     "metadata": {
      "needs_background": "light"
     },
     "output_type": "display_data"
    }
   ],
   "source": [
    "# parametros esteticos de seaborn\n",
    "plt.figure(figsize=(12,6))\n",
    "sns.scatterplot(x='VENTA',\n",
    "           y='PRECIO',\n",
    "           data=df)\n",
    "plt.show()"
   ]
  },
  {
   "cell_type": "code",
   "execution_count": 10,
   "metadata": {},
   "outputs": [
    {
     "data": {
      "image/png": "[encoded data removed]",
      "text/plain": [
       "<Figure size 864x432 with 1 Axes>"
      ]
     },
     "metadata": {
      "needs_background": "light"
     },
     "output_type": "display_data"
    }
   ],
   "source": [
    "# parametros esteticos de seaborn\n",
    "plt.figure(figsize=(12,6))\n",
    "ax = sns.scatterplot(x='FECHA_LUNES',\n",
    "           y='VENTA',\n",
    "           data=df)\n",
    "\n",
    "ax.set_xlim(df['FECHA_LUNES'].min(), df['FECHA_LUNES'].max())\n",
    "plt.show()"
   ]
  },
  {
   "cell_type": "markdown",
   "metadata": {},
   "source": [
    "Basado en la información presentada responda las siguientes preguntas:\n",
    "\n",
    "1. ¿ Cómo debería ser la relación entre las poleras (elásticidad)?, ¿ Cómo es en realidad la elasticidad ?.\n",
    "2.  ¿ Cuáles son las variables claves en el problema ?, ¿ Se necesitan más variables ?.\n",
    "3. ¿ Es necesario separar por fechas ?, en caso afirmativo, separe el conjunto de datos según su criterio.\n",
    "4. Realice un análisis exploratorio de los datos sobre las variables escogida en el punto 2. Ocupe estos resultados para interpretar de mejor forma el problema.\n",
    "5. Realice un ajuste de regresión lineal simple. Si es necesario, puede ocupar más de una regresión lineal simple según los casos encontrados. \n",
    "6. Realice predicciones de los precios para la venta de 10000,20000 y 30000 poleras."
   ]
  },
  {
   "cell_type": "markdown",
   "metadata": {},
   "source": [
    "### Pregunta 1\n",
    "\n",
    "La elasticidad debería ser negativa ya que las poleras es un bien normal, es decir, si se aumenta el precio la demanda debería bajar.\n",
    "\n",
    "### Pregunta 2\n",
    "\n",
    "Las variables claves son el precio, la venta, y la semana (el tiempo) que se esta considerando.\n",
    "\n",
    "### Pregunta 3\n",
    "\n",
    "Hacer un análisis de los datos para cada periodo de tiempo.\n",
    "\n",
    "### Pregunta 4"
   ]
  },
  {
   "cell_type": "code",
   "execution_count": 11,
   "metadata": {},
   "outputs": [
    {
     "data": {
      "text/html": [
       "<div>\n",
       "<style scoped>\n",
       "    .dataframe tbody tr th:only-of-type {\n",
       "        vertical-align: middle;\n",
       "    }\n",
       "\n",
       "    .dataframe tbody tr th {\n",
       "        vertical-align: top;\n",
       "    }\n",
       "\n",
       "    .dataframe thead th {\n",
       "        text-align: right;\n",
       "    }\n",
       "</style>\n",
       "<table border=\"1\" class=\"dataframe\">\n",
       "  <thead>\n",
       "    <tr style=\"text-align: right;\">\n",
       "      <th></th>\n",
       "      <th>fecha_lunes</th>\n",
       "      <th>venta</th>\n",
       "      <th>precio</th>\n",
       "      <th>stock</th>\n",
       "      <th>navidad</th>\n",
       "      <th>verano</th>\n",
       "      <th>primavera</th>\n",
       "    </tr>\n",
       "  </thead>\n",
       "  <tbody>\n",
       "    <tr>\n",
       "      <td>0</td>\n",
       "      <td>2016-11-28</td>\n",
       "      <td>4031</td>\n",
       "      <td>482.629433</td>\n",
       "      <td>218477.00</td>\n",
       "      <td>0</td>\n",
       "      <td>1</td>\n",
       "      <td>1</td>\n",
       "    </tr>\n",
       "    <tr>\n",
       "      <td>1</td>\n",
       "      <td>2016-12-05</td>\n",
       "      <td>8236</td>\n",
       "      <td>496.487690</td>\n",
       "      <td>209313.00</td>\n",
       "      <td>0</td>\n",
       "      <td>1</td>\n",
       "      <td>1</td>\n",
       "    </tr>\n",
       "    <tr>\n",
       "      <td>2</td>\n",
       "      <td>2016-12-12</td>\n",
       "      <td>11798</td>\n",
       "      <td>490.107492</td>\n",
       "      <td>225950.00</td>\n",
       "      <td>0</td>\n",
       "      <td>1</td>\n",
       "      <td>1</td>\n",
       "    </tr>\n",
       "    <tr>\n",
       "      <td>3</td>\n",
       "      <td>2016-12-19</td>\n",
       "      <td>15749</td>\n",
       "      <td>527.144433</td>\n",
       "      <td>155811.00</td>\n",
       "      <td>1</td>\n",
       "      <td>1</td>\n",
       "      <td>1</td>\n",
       "    </tr>\n",
       "    <tr>\n",
       "      <td>4</td>\n",
       "      <td>2016-12-26</td>\n",
       "      <td>5838</td>\n",
       "      <td>476.613886</td>\n",
       "      <td>139957.99</td>\n",
       "      <td>0</td>\n",
       "      <td>1</td>\n",
       "      <td>1</td>\n",
       "    </tr>\n",
       "  </tbody>\n",
       "</table>\n",
       "</div>"
      ],
      "text/plain": [
       "  fecha_lunes  venta      precio      stock  navidad  verano  primavera\n",
       "0  2016-11-28   4031  482.629433  218477.00        0       1          1\n",
       "1  2016-12-05   8236  496.487690  209313.00        0       1          1\n",
       "2  2016-12-12  11798  490.107492  225950.00        0       1          1\n",
       "3  2016-12-19  15749  527.144433  155811.00        1       1          1\n",
       "4  2016-12-26   5838  476.613886  139957.99        0       1          1"
      ]
     },
     "execution_count": 11,
     "metadata": {},
     "output_type": "execute_result"
    }
   ],
   "source": [
    "# Se normalizan las columnas\n",
    "df.columns = df.columns.str.lower().str.strip()\n",
    "df.head()"
   ]
  },
  {
   "cell_type": "markdown",
   "metadata": {},
   "source": [
    "Notemos que las columnas verano y primavera no tienen sentido"
   ]
  },
  {
   "cell_type": "code",
   "execution_count": 12,
   "metadata": {},
   "outputs": [
    {
     "data": {
      "text/html": [
       "<div>\n",
       "<style scoped>\n",
       "    .dataframe tbody tr th:only-of-type {\n",
       "        vertical-align: middle;\n",
       "    }\n",
       "\n",
       "    .dataframe tbody tr th {\n",
       "        vertical-align: top;\n",
       "    }\n",
       "\n",
       "    .dataframe thead th {\n",
       "        text-align: right;\n",
       "    }\n",
       "</style>\n",
       "<table border=\"1\" class=\"dataframe\">\n",
       "  <thead>\n",
       "    <tr style=\"text-align: right;\">\n",
       "      <th></th>\n",
       "      <th>columna</th>\n",
       "      <th>unicos</th>\n",
       "      <th>vacios</th>\n",
       "    </tr>\n",
       "  </thead>\n",
       "  <tbody>\n",
       "    <tr>\n",
       "      <td>0</td>\n",
       "      <td>fecha_lunes</td>\n",
       "      <td>144</td>\n",
       "      <td>0</td>\n",
       "    </tr>\n",
       "    <tr>\n",
       "      <td>1</td>\n",
       "      <td>venta</td>\n",
       "      <td>141</td>\n",
       "      <td>0</td>\n",
       "    </tr>\n",
       "    <tr>\n",
       "      <td>2</td>\n",
       "      <td>precio</td>\n",
       "      <td>144</td>\n",
       "      <td>0</td>\n",
       "    </tr>\n",
       "    <tr>\n",
       "      <td>3</td>\n",
       "      <td>stock</td>\n",
       "      <td>144</td>\n",
       "      <td>0</td>\n",
       "    </tr>\n",
       "    <tr>\n",
       "      <td>4</td>\n",
       "      <td>navidad</td>\n",
       "      <td>3</td>\n",
       "      <td>0</td>\n",
       "    </tr>\n",
       "    <tr>\n",
       "      <td>5</td>\n",
       "      <td>verano</td>\n",
       "      <td>2</td>\n",
       "      <td>0</td>\n",
       "    </tr>\n",
       "    <tr>\n",
       "      <td>6</td>\n",
       "      <td>primavera</td>\n",
       "      <td>2</td>\n",
       "      <td>0</td>\n",
       "    </tr>\n",
       "  </tbody>\n",
       "</table>\n",
       "</div>"
      ],
      "text/plain": [
       "       columna  unicos  vacios\n",
       "0  fecha_lunes     144       0\n",
       "1        venta     141       0\n",
       "2       precio     144       0\n",
       "3        stock     144       0\n",
       "4      navidad       3       0\n",
       "5       verano       2       0\n",
       "6    primavera       2       0"
      ]
     },
     "execution_count": 12,
     "metadata": {},
     "output_type": "execute_result"
    }
   ],
   "source": [
    "# Resumen de la informacion\n",
    "\n",
    "def resumen_por_columna(df,cols):\n",
    "    pd_series = df[cols]\n",
    "    \n",
    "    # elementos distintos \n",
    "    l_unique = pd_series.unique()\n",
    "    \n",
    "    # elementos vacios\n",
    "    \n",
    "    l_vacios = pd_series[pd_series.isna()]\n",
    "    \n",
    "    df_info = pd.DataFrame({\n",
    "        'columna': [cols],\n",
    "        'unicos': [len(l_unique)],\n",
    "        'vacios': [len(l_vacios)]\n",
    "    })\n",
    "    \n",
    "    return df_info\n",
    "\n",
    "frames = []\n",
    "\n",
    "for col in df.columns:\n",
    "    aux_df = resumen_por_columna(df,col)\n",
    "    frames.append(aux_df)\n",
    "    \n",
    "df_info = pd.concat(frames).reset_index(drop=True)\n",
    "df_info"
   ]
  },
  {
   "cell_type": "markdown",
   "metadata": {},
   "source": [
    "Se observa que no hay problemas con los datos entregados"
   ]
  },
  {
   "cell_type": "code",
   "execution_count": 13,
   "metadata": {},
   "outputs": [
    {
     "data": {
      "text/plain": [
       "fecha_lunes    datetime64[ns]\n",
       "venta                   int64\n",
       "precio                float64\n",
       "stock                 float64\n",
       "navidad                 int64\n",
       "verano                  int64\n",
       "primavera               int64\n",
       "dtype: object"
      ]
     },
     "execution_count": 13,
     "metadata": {},
     "output_type": "execute_result"
    }
   ],
   "source": [
    "# Tipos de datos\n",
    "tipo = df.dtypes\n",
    "df.dtypes"
   ]
  },
  {
   "cell_type": "markdown",
   "metadata": {},
   "source": [
    "Vemos que no hay inconsistencias en los tipos de datos"
   ]
  },
  {
   "cell_type": "code",
   "execution_count": 14,
   "metadata": {},
   "outputs": [
    {
     "data": {
      "image/png": "[encoded data removed]",
      "text/plain": [
       "<Figure size 864x576 with 1 Axes>"
      ]
     },
     "metadata": {
      "needs_background": "light"
     },
     "output_type": "display_data"
    }
   ],
   "source": [
    "# Analicemos que pasa en cada periodo por separado\n",
    "\n",
    "df_navidad = df.drop( df[df['navidad'] == 0].index )\n",
    "\n",
    "df_temporada = df.drop( df[df['navidad'] == 1].index )\n",
    "df_temporada = df_temporada.drop( df_temporada[df_temporada['navidad'] == 2].index )\n",
    "df_temporada = df_temporada.drop( df_temporada[df_temporada['primavera'] == 0].index )\n",
    "df_temporada = df_temporada.drop( df_temporada[df_temporada['verano'] == 0].index )\n",
    "\n",
    "df_noTemporada = df.drop( df[df['navidad'] == 1].index )\n",
    "df_noTemporada = df_noTemporada.drop( df_noTemporada[df_noTemporada['navidad'] == 2].index )\n",
    "df_noTemporada = df_noTemporada.drop( df_noTemporada[df_noTemporada['primavera'] == 1].index )\n",
    "df_noTemporada = df_noTemporada.drop( df_noTemporada[df_noTemporada['verano'] == 1].index )\n",
    "\n",
    "plt.figure(figsize = (12,8))\n",
    "plt.plot(df_navidad['venta'], df_navidad['precio'],'o',color='r')\n",
    "plt.plot(df_temporada['venta'], df_temporada['precio'],'o',color='b')\n",
    "plt.plot(df_noTemporada['venta'], df_noTemporada['precio'],'o',color='y')\n",
    "plt.ylabel('Precio')\n",
    "plt.xlabel('Venta')\n",
    "plt.legend(['Navidad','Temporada','No temporada'],loc='best')\n",
    "plt.show()"
   ]
  },
  {
   "cell_type": "markdown",
   "metadata": {},
   "source": [
    "Es necesario dividir el trabajo, ya que se observan distintos comportamientos para los distintos periodos de tiempo. Obviaremos el comportamiento en navidad.\n",
    "\n",
    "### No temporada\n",
    "\n",
    "Consideraremos a los dos puntos con ventas mayores a 1500 como outliers."
   ]
  },
  {
   "cell_type": "code",
   "execution_count": 15,
   "metadata": {},
   "outputs": [
    {
     "name": "stdout",
     "output_type": "stream",
     "text": [
      "modelo con intercepto\n",
      "coeficientes:  [-0.02025593]\n",
      "intercepto:  890.1323122256625\n"
     ]
    }
   ],
   "source": [
    "df_noTemporada = df_noTemporada.drop( df_noTemporada[df_noTemporada['precio'] > 1500].index )\n",
    "\n",
    "X1 = df_noTemporada[['venta']]\n",
    "Y1 = df_noTemporada['precio']\n",
    "\n",
    "# split dataset\n",
    "X1_train, X1_test, Y1_train, Y1_test = model_selection.train_test_split(X1, Y1, test_size=0.2, random_state = 2) \n",
    "\n",
    "model1 = linear_model.LinearRegression()\n",
    "model1_train = model1.fit(X1_train, Y1_train)\n",
    "Y1_predict = model1.predict(X1_test)\n",
    "print('modelo con intercepto')\n",
    "print('coeficientes: ',model1_train.coef_)\n",
    "print('intercepto: ',model1_train.intercept_)"
   ]
  },
  {
   "cell_type": "code",
   "execution_count": 16,
   "metadata": {},
   "outputs": [
    {
     "data": {
      "image/png": "[encoded data removed]",
      "text/plain": [
       "<Figure size 576x432 with 1 Axes>"
      ]
     },
     "metadata": {
      "needs_background": "light"
     },
     "output_type": "display_data"
    }
   ],
   "source": [
    "# Gráfico\n",
    "plt.figure(figsize = (8,6))\n",
    "plt.plot(df_noTemporada['venta'], df_noTemporada['precio'],'o',color='y')\n",
    "plt.plot(X1_test, Y1_predict,'-',color='g')\n",
    "plt.ylabel('Precio')\n",
    "plt.xlabel('Venta')\n",
    "plt.show()"
   ]
  },
  {
   "cell_type": "markdown",
   "metadata": {},
   "source": [
    "### Temporada"
   ]
  },
  {
   "cell_type": "code",
   "execution_count": 17,
   "metadata": {},
   "outputs": [
    {
     "name": "stdout",
     "output_type": "stream",
     "text": [
      "modelo con intercepto\n",
      "coeficientes:  [-0.16920641]\n",
      "intercepto:  3093.5933088868546\n"
     ]
    }
   ],
   "source": [
    "X2 = df_temporada[['venta']]\n",
    "Y2 = df_temporada['precio']\n",
    "\n",
    "# split dataset\n",
    "X2_train, X2_test, Y2_train, Y2_test = model_selection.train_test_split(X2, Y2, test_size=0.2, random_state = 2) \n",
    "\n",
    "model2 = linear_model.LinearRegression()\n",
    "model2_train = model2.fit(X2_train, Y2_train)\n",
    "Y2_predict = model2.predict(X2_test)\n",
    "print('modelo con intercepto')\n",
    "print('coeficientes: ',model2_train.coef_)\n",
    "print('intercepto: ',model2_train.intercept_)"
   ]
  },
  {
   "cell_type": "code",
   "execution_count": 18,
   "metadata": {},
   "outputs": [
    {
     "data": {
      "image/png": "[encoded data removed]",
      "text/plain": [
       "<Figure size 576x432 with 1 Axes>"
      ]
     },
     "metadata": {
      "needs_background": "light"
     },
     "output_type": "display_data"
    }
   ],
   "source": [
    "# Gráfico\n",
    "plt.figure(figsize = (8,6))\n",
    "plt.plot(df_temporada['venta'], df_temporada['precio'],'o',color='b')\n",
    "plt.plot(X2_test, Y2_predict, '-', color='g')\n",
    "plt.ylabel('Precio')\n",
    "plt.xlabel('Venta')\n",
    "plt.show()"
   ]
  },
  {
   "cell_type": "markdown",
   "metadata": {},
   "source": [
    "### Pregunta 6"
   ]
  },
  {
   "cell_type": "code",
   "execution_count": 19,
   "metadata": {},
   "outputs": [
    {
     "name": "stdout",
     "output_type": "stream",
     "text": [
      "Valores predichos para 10000, 20000 y 30000 poleras respectivamente:  [ 1401.52916529  -290.5349783  -1982.5991219 ]\n"
     ]
    }
   ],
   "source": [
    "# Temporada\n",
    "\n",
    "print(\"Valores predichos para 10000, 20000 y 30000 poleras respectivamente: \", model2.predict(pd.DataFrame({'VENTA':[10000,20000,30000]})) )"
   ]
  },
  {
   "cell_type": "code",
   "execution_count": 20,
   "metadata": {},
   "outputs": [
    {
     "name": "stdout",
     "output_type": "stream",
     "text": [
      "Valores predichos para 10000, 20000 y 30000 poleras respectivamente:  [687.57305427 485.01379631 282.45453836]\n"
     ]
    }
   ],
   "source": [
    "# No Temporada\n",
    "\n",
    "print(\"Valores predichos para 10000, 20000 y 30000 poleras respectivamente: \", model1.predict(pd.DataFrame({'VENTA':[10000,20000,30000]})) )"
   ]
  },
  {
   "cell_type": "markdown",
   "metadata": {},
   "source": [
    "### Referencias\n",
    "\n",
    "* [A beginner’s guide to Linear Regression in Python with Scikit-Learn](https://towardsdatascience.com/a-beginners-guide-to-linear-regression-in-python-with-scikit-learn-83a8f7ae2b4f)"
   ]
  }
 ],
 "metadata": {
  "kernelspec": {
   "display_name": "Python 3",
   "language": "python",
   "name": "python3"
  },
  "language_info": {
   "codemirror_mode": {
    "name": "ipython",
    "version": 3
   },
   "file_extension": ".py",
   "mimetype": "text/x-python",
   "name": "python",
   "nbconvert_exporter": "python",
   "pygments_lexer": "ipython3",
   "version": "3.7.4"
  }
 },
 "nbformat": 4,
 "nbformat_minor": 4
}
