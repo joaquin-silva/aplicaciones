{
 "cells": [
  {
   "cell_type": "markdown",
   "metadata": {},
   "source": [
    "<img src=\"images/usm.png\" width=\"480\" height=\"240\" align=\"left\"/>"
   ]
  },
  {
   "cell_type": "markdown",
   "metadata": {},
   "source": [
    "# MAT281 - 2° Semestre 2019\n",
    "## Aplicaciones de la Matemática en la Ingeniería\n",
    "\n",
    "EL siguiente laboratorio debe realizarse de manera individual. No es posible copiar y pegar código de otros estudiantes. \n",
    "Pueden consultar internet (stackoverflow, por ejemplo), pero deben indicar sus fuentes cuando corresponda.\n",
    "\n",
    "**Nombre**: *Joaquín Silva*\n",
    "\n",
    "**Rol**: *201604611-9*\n",
    "\n"
   ]
  },
  {
   "cell_type": "markdown",
   "metadata": {},
   "source": [
    "## Objetivos del laboratorio\n",
    "\n",
    "* Reforzar conceptos básicos de la librería numpy.\n"
   ]
  },
  {
   "cell_type": "markdown",
   "metadata": {},
   "source": [
    "## Contenidos\n",
    "\n",
    "* [Problema 01](#p1)\n",
    "* [Problema 02](#p2)\n",
    "* [Problema 03](#p3)"
   ]
  },
  {
   "cell_type": "markdown",
   "metadata": {},
   "source": [
    "<a id='p1'></a>\n",
    "## I.- Problema 01\n",
    "\n",
    "Los **peaks**  son puntos rodeados por valores más pequeños en ambos lados. Por ejemplo:\n",
    "\n",
    "* Para el arreglo unidimensional $a$ = [1, 3, 7, 1, 2, 6, 0, 1], los valores máximos son el 7 y 6, cuyas posiciones corresponden al lugar 3 y 6, respectivamente.\n",
    "\n",
    "\n",
    "Implemente una función llamada `findPeaks` cuyo input sea un arreglo unidimensional y cuyo ouput retorne el valor del (o los) peaks.\n",
    "\n",
    "* **Ejemplo**: *findPeaks(a)* = $(7,6)$"
   ]
  },
  {
   "cell_type": "code",
   "execution_count": 31,
   "metadata": {},
   "outputs": [
    {
     "data": {
      "text/plain": [
       "[7, 6]"
      ]
     },
     "execution_count": 31,
     "metadata": {},
     "output_type": "execute_result"
    }
   ],
   "source": [
    "def findPeaks(a):\n",
    "    peaks = []\n",
    "    for i in range(1,len(a)-1):\n",
    "        if(a[i]>a[i-1] and a[i]>a[i+1]):\n",
    "            peaks.append(a[i]) \n",
    "    return peaks\n",
    "𝑎  = [1, 3, 7, 1, 2, 6, 0, 1]\n",
    "findPeaks(a)"
   ]
  },
  {
   "cell_type": "markdown",
   "metadata": {},
   "source": [
    "<a id='p2'></a>\n",
    "## II.- Problema 02\n",
    "\n",
    "La función **strides($a,n,p$)**, corresponde a transformar un arreglo unidimensional $a$ en una matriz de $n$ columnas, en el cual las filas se van construyendo desfasando la posición del arreglo en $p$ pasos hacia adelante.\n",
    "\n",
    "* Para el arreglo unidimensional $a$ = [ 1,  2,  3,  4,  5,  6,  7,  8,  9, 10], la función strides($a,4,2$), corresponde a crear una matriz de $4$ columnas, cuyos desfaces hacia adelante se hacen de dos en dos. \n",
    "\n",
    "El resultado tendría que ser algo así:$$\\begin{pmatrix}\n",
    " 1& 2 &3 &4 \\\\ \n",
    " 3&  4&5&6 \\\\ \n",
    " 5& 6 &7 &8 \\\\ \n",
    " 7& 8 &9 &10 \\\\ \n",
    "\\end{pmatrix}$$\n",
    "\n",
    "\n",
    "Implemente una función llamada `strides(a,4,2)` cuyo input sea un arreglo unidimensional y retorne la matriz de $4$ columnas, cuyos desfaces hacia adelante se hacen de dos en dos. \n",
    "\n",
    "* **Ejemplo**: *strides($a$,4,2)* =$\\begin{pmatrix}\n",
    " 1& 2 &3 &4 \\\\ \n",
    " 3&  4&5&6 \\\\ \n",
    " 5& 6 &7 &8 \\\\ \n",
    " 7& 8 &9 &10 \\\\ \n",
    "\\end{pmatrix}$"
   ]
  },
  {
   "cell_type": "code",
   "execution_count": 43,
   "metadata": {},
   "outputs": [
    {
     "data": {
      "text/plain": [
       "array([[ 1.,  2.,  3.,  4.],\n",
       "       [ 3.,  4.,  5.,  6.],\n",
       "       [ 5.,  6.,  7.,  8.],\n",
       "       [ 7.,  8.,  9., 10.]])"
      ]
     },
     "execution_count": 43,
     "metadata": {},
     "output_type": "execute_result"
    }
   ],
   "source": [
    "import numpy as np\n",
    "\n",
    "def strides(a,n,p):\n",
    "    s = np.zeros((n,n))\n",
    "    for i in range(4):\n",
    "        for k in range(4):\n",
    "            s[i][k] = a[k+i*p]\n",
    "    return s\n",
    "𝑎  = [ 1, 2, 3, 4, 5, 6, 7, 8, 9, 10]\n",
    "strides(a,4,2)"
   ]
  },
  {
   "cell_type": "markdown",
   "metadata": {},
   "source": [
    "<a id='p3'></a>\n",
    "## III.- Problema 03\n",
    "\n",
    "\n",
    "Un **cuadrado mágico** es una matriz de tamaño $n \\times n$ de números enteros positivos tal que \n",
    "la suma de los números por columnas, filas y diagonales principales sea la misma. Usualmente, los números empleados para rellenar las casillas son consecutivos, de 1 a $n^2$, siendo $n$ el número de columnas y filas del cuadrado mágico.\n",
    "\n",
    "Por ejemplo, \n",
    "\n",
    "* $A= \\begin{pmatrix}\n",
    " 4& 9 &2 \\\\ \n",
    " 3&  5&7 \\\\ \n",
    " 8& 1 &6 \n",
    "\\end{pmatrix}$,\n",
    "es un cuadrado mágico.\n",
    "\n",
    "* $B= \\begin{pmatrix}\n",
    " 4& 2 &9 \\\\ \n",
    " 3&  5&7 \\\\ \n",
    " 8& 1 &6 \n",
    "\\end{pmatrix}$, no es un cuadrado mágico.\n",
    "\n",
    "Implemente una función llamada `es_cudrado_magico` cuyo input sea una matriz cuadrada y cuyo ouput retorne *True* si es un cuadrado mágico o 'False', en caso contrario\n",
    "\n",
    "* **Ejemplo**: *es_cudrado_magico($A$)* = True, *es_cudrado_magico($B$)* = False"
   ]
  },
  {
   "cell_type": "code",
   "execution_count": 68,
   "metadata": {},
   "outputs": [
    {
     "name": "stdout",
     "output_type": "stream",
     "text": [
      "True\n",
      "False\n"
     ]
    }
   ],
   "source": [
    "def suma_diagonal(A,n):\n",
    "    suma = 0\n",
    "    for i in range(n):\n",
    "        for k in range(n):\n",
    "            if(i==k):\n",
    "                suma = suma + A[i][i]\n",
    "    return suma\n",
    "\n",
    "def suma_fila(A,n,k):\n",
    "    suma = 0\n",
    "    for i in range(n):\n",
    "        suma = suma + A[k][i]\n",
    "    return suma\n",
    "\n",
    "def es_cuadrado_magico(A):\n",
    "    columna = 0\n",
    "    fila = 0\n",
    "    diagonal = 0\n",
    "    x = 0\n",
    "    if(A.shape[0]==A.shape[1]):\n",
    "            n = A.shape[0]\n",
    "            if(suma_diagonal(A,n) == suma_diagonal(np.transpose(A),n)):\n",
    "                for i in range(n):\n",
    "                    if(suma_fila(A,n,i) == suma_fila(np.transpose(A),n,i)):\n",
    "                        x = x + 1\n",
    "                if(x == n):\n",
    "                    return True\n",
    "    return False\n",
    "\n",
    "A = np.array([[4,9,2],[3,5,7],[8,1,6]]) \n",
    "B = np.array([[4,2,9],[3,5,7],[8,1,6]]) \n",
    "print(es_cuadrado_magico(A))\n",
    "print(es_cuadrado_magico(B))"
   ]
  },
  {
   "cell_type": "code",
   "execution_count": null,
   "metadata": {},
   "outputs": [],
   "source": []
  }
 ],
 "metadata": {
  "kernelspec": {
   "display_name": "Python 3",
   "language": "python",
   "name": "python3"
  },
  "language_info": {
   "codemirror_mode": {
    "name": "ipython",
    "version": 3
   },
   "file_extension": ".py",
   "mimetype": "text/x-python",
   "name": "python",
   "nbconvert_exporter": "python",
   "pygments_lexer": "ipython3",
   "version": "3.7.4"
  }
 },
 "nbformat": 4,
 "nbformat_minor": 4
}
