{
 "cells": [
  {
   "cell_type": "markdown",
   "metadata": {},
   "source": [
    "<img src=\"images/usm.png\" width=\"480\" height=\"240\" align=\"left\"/>"
   ]
  },
  {
   "cell_type": "markdown",
   "metadata": {},
   "source": [
    "# MAT281 - 2° Semestre 2019\n",
    "## Aplicaciones de la Matemática en la Ingeniería\n",
    "\n",
    "EL siguiente laboratorio debe realizarse de manera individual. No es posible copiar y pegar código de otros estudiantes. \n",
    "Pueden consultar internet (stackoverflow, por ejemplo), pero deben indicar sus fuentes cuando corresponda.\n",
    "\n",
    "**Nombre**: *Joaquín Silva*\n",
    "\n",
    "**Rol**: *201604611-9*\n",
    "\n"
   ]
  },
  {
   "cell_type": "markdown",
   "metadata": {},
   "source": [
    "## Objetivos del laboratorio\n",
    "\n",
    "* Reforzar conceptos básicos del del lenguaje de programación python.\n"
   ]
  },
  {
   "cell_type": "markdown",
   "metadata": {},
   "source": [
    "## Contenidos\n",
    "\n",
    "* [Problema 01](#p1)\n",
    "* [Problema 02](#p2)\n",
    "* [Problema 03](#p3)\n"
   ]
  },
  {
   "cell_type": "markdown",
   "metadata": {},
   "source": [
    "<a id='p1'></a>\n",
    "## I.- Problema 01\n",
    "\n",
    "\n",
    "Sea $\\sigma(n)$ definido como la suma de los divisores propios de $n$ (números menores que n que se dividen en $n$).\n",
    "\n",
    "Los [números amigos](https://en.wikipedia.org/wiki/Amicable_numbers) son  enteros positivos $n_1$ y $n_2$ tales que la suma de los divisores propios de uno es igual al otro número y viceversa, es decir, $\\sigma(n_1)=\\sigma(n_2)$ y $\\sigma(n_2)=\\sigma(n_1)$.\n",
    "\n",
    "\n",
    "Por ejemplo, \n",
    "* los divisores propios de 220 son 1, 2, 4, 5, 10, 11, 20, 22, 44, 55 y 110; por lo tanto $\\sigma(220) = 284$. \n",
    "* Los divisores propios de 284 son 1, 2, 4, 71 y 142; entonces $\\sigma(284) = 220$.\n",
    "\n",
    "Implemente una función llamada `amigos` cuyo input sean dos números naturales $n_1$ y $n_2$, cuyo output sea verifique si los números son amigos o no.\n",
    "\n",
    "* **Ejemplo**: *amigos(220,284)* = True, *amigos(6,5)* = False"
   ]
  },
  {
   "cell_type": "code",
   "execution_count": 1,
   "metadata": {},
   "outputs": [
    {
     "name": "stdout",
     "output_type": "stream",
     "text": [
      "True\n",
      "False\n"
     ]
    }
   ],
   "source": [
    "import math\n",
    "\n",
    "def sigma(n):\n",
    "    suma = 0\n",
    "    for i in range(math.floor(n/2)):\n",
    "        if(n % (i+1) == 0):\n",
    "            suma = suma + (i+1)\n",
    "    return suma\n",
    "\n",
    "def amigos(n1, n2):\n",
    "    if(sigma(n1) == n2 and n1 == sigma(n2)):\n",
    "        print(\"True\")\n",
    "    else:\n",
    "        print(\"False\")\n",
    "\n",
    "amigos(220,284)\n",
    "amigos(6,5)"
   ]
  },
  {
   "cell_type": "markdown",
   "metadata": {},
   "source": [
    "<a id='p2'></a>\n",
    "## II.- Problema 02\n",
    "\n",
    "La [conjetura de Collatz](https://en.wikipedia.org/wiki/Collatz_conjecture), conocida también como conjetura $3n+1$ o conjetura de Ulam (entre otros nombres), fue enunciada por el matemático Lothar Collatz en 1937, y a la fecha no se ha resuelto.\n",
    "\n",
    "Sea la siguiente operación, aplicable a cualquier número entero positivo:\n",
    "* Si el número es par, se divide entre 2.\n",
    "* Si el número es impar, se multiplica por 3 y se suma 1.\n",
    "\n",
    "La conjetura dice que siempre alcanzaremos el 1 (y por tanto el ciclo 4, 2, 1) para cualquier número con el que comencemos. \n",
    "\n",
    "Implemente una función llamada `collatz` cuyo input sea un número natural positivo $N$ y como output devulva la secuencia de números hasta llegar a 1.\n",
    "\n",
    "* **Ejemplo**: *collatz(9)* = [9, 28, 14, 7, 22, 11, 34, 17, 52, 26, 13, 40, 20, 10, 5, 16, 8, 4, 2, 1]"
   ]
  },
  {
   "cell_type": "code",
   "execution_count": 2,
   "metadata": {},
   "outputs": [
    {
     "name": "stdout",
     "output_type": "stream",
     "text": [
      "[4, 10, 5.0, 16.0, 8.0, 4.0, 2.0, 1.0]\n"
     ]
    }
   ],
   "source": [
    "def collatz(N):\n",
    "    lista = []\n",
    "    lista.append(4)\n",
    "    x = N\n",
    "    while(x!= 1):\n",
    "        if(x%2==0):\n",
    "            x = x/2\n",
    "            lista.append(x)\n",
    "        else:\n",
    "            x = 3*x+1\n",
    "            lista.append(x)\n",
    "    return lista\n",
    "\n",
    "print(collatz(3))"
   ]
  },
  {
   "cell_type": "markdown",
   "metadata": {},
   "source": [
    "#### <a id='p3'></a>\n",
    "## III.- Problema 03\n",
    "\n",
    "La [conjetura de Goldbach](https://en.wikipedia.org/wiki/Goldbach%27s_conjecture) es uno de los problemas abiertos más antiguos en matemáticas. Concretamente, G.H. Hardy, en 1921, en su famoso discurso pronunciado en la Sociedad Matemática de Copenhague, comentó que probablemente la conjetura de Goldbach no es solo uno de los problemas no resueltos más difíciles de la teoría de números, sino de todas las matemáticas. Su enunciado es el siguiente:\n",
    "\n",
    "$$\\textrm{Todo número par mayor que 2 puede escribirse como suma de dos números primos - Christian Goldbach (1742)}$$\n",
    "\n",
    "Implemente una función llamada `goldbach` cuyo input sea un número natural positivo $N$ y como output devuelva la suma de dos primos ($N1$ y $N2$) tal que: $N1+N2=N$. \n",
    "\n",
    " * **Ejemplo**: goldbach(4) = (2,2), goldbash(6) = (3,3) , goldbash(8) = (3,5)"
   ]
  },
  {
   "cell_type": "code",
   "execution_count": 3,
   "metadata": {},
   "outputs": [
    {
     "name": "stdout",
     "output_type": "stream",
     "text": [
      "(2, 2)\n",
      "(3, 3)\n",
      "(3, 5)\n"
     ]
    }
   ],
   "source": [
    "import numpy as np\n",
    "\n",
    "def esPrimo(x):\n",
    "    if(x==1):\n",
    "        return False\n",
    "    elif(x==2):\n",
    "        return True\n",
    "    elif(x%2==0):\n",
    "        return False\n",
    "    else:\n",
    "        lista = []\n",
    "        for i in range(int(np.sqrt(x))):\n",
    "            i = i+1\n",
    "            if(x%i==0):\n",
    "                lista.append(i)\n",
    "        if(len(lista)==1):\n",
    "            return True\n",
    "        else:\n",
    "            return False\n",
    "        \n",
    "def primos(x):\n",
    "    lista = []\n",
    "    for i in range(2,x+1):\n",
    "        if esPrimo(i):\n",
    "            lista.append(i)\n",
    "    return lista\n",
    "\n",
    "def golbach(N):\n",
    "    lista = primos(N)\n",
    "    for i in range(len(lista)):\n",
    "        for k in range(len(lista)):\n",
    "            if(lista[i]+lista[k]==N):\n",
    "                return lista[i],lista[k]\n",
    "\n",
    "print(golbach(4))\n",
    "print(golbach(6))\n",
    "print(golbach(8))"
   ]
  },
  {
   "cell_type": "code",
   "execution_count": null,
   "metadata": {},
   "outputs": [],
   "source": []
  }
 ],
 "metadata": {
  "kernelspec": {
   "display_name": "Python 3",
   "language": "python",
   "name": "python3"
  },
  "language_info": {
   "codemirror_mode": {
    "name": "ipython",
    "version": 3
   },
   "file_extension": ".py",
   "mimetype": "text/x-python",
   "name": "python",
   "nbconvert_exporter": "python",
   "pygments_lexer": "ipython3",
   "version": "3.7.4"
  }
 },
 "nbformat": 4,
 "nbformat_minor": 4
}
